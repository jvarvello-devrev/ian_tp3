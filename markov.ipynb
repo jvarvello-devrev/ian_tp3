{
 "cells": [
  {
   "cell_type": "markdown",
   "metadata": {},
   "source": [
    "### Cadenas de markov para predecir el lenguaje - Metegol"
   ]
  },
  {
   "cell_type": "code",
   "execution_count": null,
   "metadata": {},
   "outputs": [],
   "source": [
    "import re\n",
    "import random\n",
    "from collections import defaultdict\n",
    "\n",
    "class MarkovChainPredictor:\n",
    "    def __init__(self):\n",
    "        self.transition_matrix = defaultdict(lambda: defaultdict(int))\n",
    "        self.terminal_states = set([\".\", \"?\"])\n",
    "\n",
    "    def train(self, text):\n",
    "        \"\"\"\n",
    "        Entrena el modelo de cadenas de Markov usando un texto dado.\n",
    "        \n",
    "        :param text: Cadena con el texto de entrenamiento.\n",
    "        \"\"\"\n",
    "        words = re.findall(r'\\w+|[.!?]', text)\n",
    "        for i in range(len(words) - 1):\n",
    "            current_word = words[i]\n",
    "            next_word = words[i + 1]\n",
    "            self.transition_matrix[current_word][next_word] += 1\n",
    "\n",
    "    def print_transition_matrix_for_word(self, word):\n",
    "        \"\"\"\n",
    "        Imprime la matriz de transición para una palabra específica.\n",
    "        \n",
    "        :param word: La palabra para la que se quiere imprimir la matriz de transición.\n",
    "        \"\"\"\n",
    "        if word in self.transition_matrix:\n",
    "            print(f\"Transiciones para la palabra '{word}':\")\n",
    "            for next_word, count in self.transition_matrix[word].items():\n",
    "                print(f\"  {next_word}: {count}\")\n",
    "        else:\n",
    "            print(f\"La palabra '{word}' no tiene transiciones registradas.\")\n",
    "\n",
    "    def predict_next_word(self, current_word):\n",
    "        \"\"\"\n",
    "        Predice la siguiente palabra basada en el modelo de cadenas de Markov.\n",
    "        \n",
    "        :param current_word: La palabra actual.\n",
    "        :return: La siguiente palabra predicha o None si no hay una predicción.\n",
    "        \"\"\"\n",
    "        next_words = self.transition_matrix[current_word]\n",
    "        if not next_words:\n",
    "            return None\n",
    "\n",
    "        total_transitions = sum(next_words.values())\n",
    "        words, probabilities = zip(*[(word, count / total_transitions) for word, count in next_words.items()])\n",
    "\n",
    "        return random.choices(words, probabilities)[0]\n",
    "\n",
    "    def generate_sentence(self, start_word):\n",
    "        \"\"\"\n",
    "        Genera una oración a partir de una palabra inicial hasta llegar a un estado terminal.\n",
    "        \n",
    "        :param start_word: La palabra inicial de la oración.\n",
    "        :return: Una oración generada como cadena.\n",
    "        \"\"\"\n",
    "        current_word = start_word\n",
    "        sentence = [current_word]\n",
    "\n",
    "        while current_word not in self.terminal_states:\n",
    "            next_word = self.predict_next_word(current_word)\n",
    "            if not next_word:\n",
    "                break\n",
    "            sentence.append(next_word)\n",
    "            current_word = next_word\n",
    "\n",
    "        return \" \".join(sentence)"
   ]
  },
  {
   "cell_type": "code",
   "execution_count": null,
   "metadata": {},
   "outputs": [],
   "source": [
    "with open(\"metegol_limpio.txt\", \"r\", encoding=\"utf-8\") as file:\n",
    "    texto_entrenamiento = file.read()\n"
   ]
  },
  {
   "cell_type": "code",
   "execution_count": 32,
   "metadata": {},
   "outputs": [],
   "source": [
    "markov_predictor = MarkovChainPredictor()\n",
    "markov_predictor.train(texto_entrenamiento)"
   ]
  },
  {
   "cell_type": "code",
   "execution_count": 33,
   "metadata": {},
   "outputs": [
    {
     "name": "stdout",
     "output_type": "stream",
     "text": [
      "Transiciones para la palabra 'gol':\n",
      "  .: 3\n",
      "  ni: 1\n",
      "  !: 5\n",
      "  de: 1\n"
     ]
    }
   ],
   "source": [
    "markov_predictor.print_transition_matrix_for_word(\"gol\")"
   ]
  },
  {
   "cell_type": "code",
   "execution_count": 34,
   "metadata": {},
   "outputs": [],
   "source": [
    "oracion_generada = markov_predictor.generate_sentence(\"gol\")"
   ]
  },
  {
   "cell_type": "code",
   "execution_count": 35,
   "metadata": {},
   "outputs": [
    {
     "data": {
      "text/plain": [
       "'gol de Amadeo cóbrale .'"
      ]
     },
     "execution_count": 35,
     "metadata": {},
     "output_type": "execute_result"
    }
   ],
   "source": [
    "oracion_generada"
   ]
  },
  {
   "cell_type": "code",
   "execution_count": 36,
   "metadata": {},
   "outputs": [
    {
     "data": {
      "text/plain": [
       "'gol ! Capi el único fracaso .'"
      ]
     },
     "execution_count": 36,
     "metadata": {},
     "output_type": "execute_result"
    }
   ],
   "source": [
    "markov_predictor.generate_sentence(\"gol\")"
   ]
  },
  {
   "cell_type": "code",
   "execution_count": 37,
   "metadata": {},
   "outputs": [
    {
     "data": {
      "text/plain": [
       "'gol ! Roba la toca ?'"
      ]
     },
     "execution_count": 37,
     "metadata": {},
     "output_type": "execute_result"
    }
   ],
   "source": [
    "markov_predictor.generate_sentence(\"gol\")"
   ]
  },
  {
   "cell_type": "code",
   "execution_count": 44,
   "metadata": {},
   "outputs": [
    {
     "data": {
      "text/plain": [
       "'Amadeo por la cabeza que pasa ?'"
      ]
     },
     "execution_count": 44,
     "metadata": {},
     "output_type": "execute_result"
    }
   ],
   "source": [
    "markov_predictor.generate_sentence(\"Amadeo\")"
   ]
  },
  {
   "cell_type": "code",
   "execution_count": 45,
   "metadata": {},
   "outputs": [
    {
     "data": {
      "text/plain": [
       "'Amadeo .'"
      ]
     },
     "execution_count": 45,
     "metadata": {},
     "output_type": "execute_result"
    }
   ],
   "source": [
    "markov_predictor.generate_sentence(\"Amadeo\")"
   ]
  },
  {
   "cell_type": "code",
   "execution_count": 50,
   "metadata": {},
   "outputs": [
    {
     "name": "stdout",
     "output_type": "stream",
     "text": [
      "Che Donald ! No tenemos el combinado local .\n",
      "Che Donald ! Mira lo necesitan .\n",
      "Che Donald ! Gol de rodillas .\n",
      "Che Donald ! Se fue Amadeo que importa .\n",
      "Che Donald ! No se me hizo el dueño .\n",
      "Che Donald ! Dos cortas y medio campo y estará todo el bordó .\n",
      "Che Donald ! El árbitro dice cuando las piernas .\n",
      "Che Donald ! Gol de al resto de mi pollito .\n",
      "Che Donald ! Laura .\n",
      "Che Donald ! No no puedo ver tú Laura .\n",
      "Che Donald ! Te voy a ver .\n",
      "Che Donald ! La pone el basural ! Empatamos .\n",
      "Che Donald ! Estás frente para González .\n",
      "Che Donald ! Espéranos .\n",
      "Che Donald ! No acá el pueblo .\n",
      "Che Donald ! Inútiles ! Socorro ! El horror .\n",
      "Che Donald ! Ya sé ! Increíble ! Te odio lo más pelotas .\n",
      "Che Donald ! Centro de rabona .\n",
      "Che Donald ! Vamos .\n",
      "Che Donald ! Amadeo .\n",
      "Che Donald ! Sí ! Pero por izquierda .\n",
      "Che Donald ! No sirvo para el Laucha .\n",
      "Che Donald ! Olé olé ! Mira .\n",
      "Che Donald ! No teman .\n",
      "Che Donald ! El equipo de todo .\n",
      "Che Donald ! Gol ! Yo lo que haberle visto la razón .\n",
      "Che Donald ! Nunca vi a perder el Laucha que lo pides así el Laucha .\n",
      "Che Donald ! Centro y no necesitamos .\n",
      "Che Donald ! Laura .\n",
      "Che Donald ! Pareces una duda .\n",
      "Che Donald ! Gol ! Acá no te voy .\n",
      "Che Donald ! Todo es tu pueblo ! Vuelve al metegol y discutirle de Ferrero .\n",
      "Che Donald ! Ey tú quieres a 4 3 .\n",
      "Che Donald ! La pide el mejor de la tengo que lo necesitan .\n",
      "Che Donald ! Retirada ! Se los Bordó .\n",
      "Che Donald ! No ! Amadeo no lo necesitamos .\n",
      "Che Donald ! Loco ! Y encima se parece que tú y encima se puede extrañar ?\n",
      "Che Donald ! Para qué me tuve miedo .\n",
      "Che Donald ! Salchichas con el partido .\n",
      "Che Donald ! Inaudito ! No vinimos a los de semana .\n",
      "Che Donald ! Centro y para Igor .\n",
      "Che Donald ! Amadeo .\n",
      "Che Donald ! Se lo decía siempre gané ?\n",
      "Che Donald ! Gol ! Me prestas la psicológica porque te preocupes hermano ?\n",
      "Che Donald ! Detente detente .\n",
      "Che Donald ! Y qué no va a despedirse .\n",
      "Che Donald ! Cuidado con el famoso autor teatral William .\n",
      "Che Donald ! Juégale .\n",
      "Che Donald ! Bien ! Inútiles ! Aquí ! No teman .\n",
      "Che Donald ! Amadeo ?\n",
      "Che Donald ! Quién te agarre yo .\n",
      "Che Donald ! Qué haces ?\n",
      "Che Donald ! Amadeo ! Qué tal ?\n",
      "Che Donald ! Hay que tú admiras de su historia real .\n",
      "Che Donald ! Encara el inútil .\n",
      "Che Donald ! Inútiles ! Vamos a llevar al cura me voy a McAntony que atraerá turistas a dormir .\n",
      "Che Donald ! Qué haces ?\n",
      "Che Donald ! Salchichas con la fuerza bruta la pasa este maravilloso ante los romanos hasta que hacerle la existencia ?\n",
      "Che Donald ! No me lo quiero igual a despertar y deja servido el Loco ! Gané ! Qué haces un partidito en la humanidad de Bubaye .\n",
      "Che Donald ! Loco ! No ! Uno dos tres .\n",
      "Che Donald ! Yo soy frágil como padre .\n",
      "Che Donald ! Socorro ! A darlo máximo y elude a mí ?\n",
      "Che Donald ! Que me pegó esta no .\n",
      "Che Donald ! Te vas a tener que me digan que soy el pueblo siempre .\n",
      "Che Donald ! Salchichas con la sé lo que fueron estos días .\n",
      "Che Donald ! Muchachos .\n",
      "Che Donald ! Por eso .\n",
      "Che Donald ! Rápido .\n",
      "Che Donald ! Mejor muerto que ti ?\n",
      "Che Donald ! Avanzan con todos .\n",
      "Che Donald ! Loco el universo cuatro .\n",
      "Che Donald ! No necesitamos .\n",
      "Che Donald ! Por qué pasa este equipo local consiguió meterse en paz ?\n",
      "Che Donald ! Por qué equipo Liso ?\n",
      "Che Donald ! Bájense todos los tres .\n",
      "Che Donald ! Amadeo .\n",
      "Che Donald ! No a buscarlo .\n",
      "Che Donald ! Tíralo ! Y tú .\n",
      "Che Donald ! Increíble ! A quién se reía de juguete .\n",
      "Che Donald ! Uno más .\n",
      "Che Donald ! Gol ! Salchichas con estas características ?\n",
      "Che Donald ! Patea Amadeo .\n",
      "Che Donald ! Golazo ! No me tienen un negocio .\n",
      "Che Donald ! Ve a hacer Chino ?\n",
      "Che Donald ! Felices los controles .\n",
      "Che Donald ! El decorador decía de visibilidad .\n",
      "Che Donald ! Se van a nosotros .\n",
      "Che Donald ! Si gana en mí ! Qué haces ?\n",
      "Che Donald ! Retirada ! Laura ! Que ahora agárrense .\n",
      "Che Donald ! No la acción .\n",
      "Che Donald ! Vamos .\n",
      "Che Donald ! Aquí ! Gol ! Mira .\n",
      "Che Donald ! Dos veces no dejas a llegar al partido meterse en este equipo local para acá ?\n",
      "Che Donald ! Nos falta de punta y no tengo nada .\n",
      "Che Donald ! El Subcomisario derriba y .\n",
      "Che Donald ! Yo no me importa .\n",
      "Che Donald ! Te doy la revancha .\n",
      "Che Donald ! No puedo volver al cura y no puede creer que hay manera de piernas .\n",
      "Che Donald ! Qué pasa para Said .\n",
      "Che Donald ! Dos letras .\n"
     ]
    }
   ],
   "source": [
    "for i in range(100):\n",
    "    print(markov_predictor.generate_sentence(\"Che\"))"
   ]
  },
  {
   "cell_type": "code",
   "execution_count": 51,
   "metadata": {},
   "outputs": [
    {
     "name": "stdout",
     "output_type": "stream",
     "text": [
      "\u001b[33mWARNING: Ignoring invalid distribution -umpy (/Library/Frameworks/Python.framework/Versions/3.10/lib/python3.10/site-packages)\u001b[0m\u001b[33m\n",
      "\u001b[0mCollecting networkx\n",
      "  Downloading networkx-3.4.2-py3-none-any.whl.metadata (6.3 kB)\n",
      "Requirement already satisfied: matplotlib in /Library/Frameworks/Python.framework/Versions/3.10/lib/python3.10/site-packages (3.9.0)\n",
      "Requirement already satisfied: contourpy>=1.0.1 in /Library/Frameworks/Python.framework/Versions/3.10/lib/python3.10/site-packages (from matplotlib) (1.2.1)\n",
      "Requirement already satisfied: cycler>=0.10 in /Library/Frameworks/Python.framework/Versions/3.10/lib/python3.10/site-packages (from matplotlib) (0.12.1)\n",
      "Requirement already satisfied: fonttools>=4.22.0 in /Library/Frameworks/Python.framework/Versions/3.10/lib/python3.10/site-packages (from matplotlib) (4.53.1)\n",
      "Requirement already satisfied: kiwisolver>=1.3.1 in /Library/Frameworks/Python.framework/Versions/3.10/lib/python3.10/site-packages (from matplotlib) (1.4.5)\n",
      "Requirement already satisfied: numpy>=1.23 in /Library/Frameworks/Python.framework/Versions/3.10/lib/python3.10/site-packages (from matplotlib) (1.26.4)\n",
      "Requirement already satisfied: packaging>=20.0 in /Library/Frameworks/Python.framework/Versions/3.10/lib/python3.10/site-packages (from matplotlib) (21.3)\n",
      "Requirement already satisfied: pillow>=8 in /Library/Frameworks/Python.framework/Versions/3.10/lib/python3.10/site-packages (from matplotlib) (10.4.0)\n",
      "Requirement already satisfied: pyparsing>=2.3.1 in /Library/Frameworks/Python.framework/Versions/3.10/lib/python3.10/site-packages (from matplotlib) (3.0.9)\n",
      "Requirement already satisfied: python-dateutil>=2.7 in /Library/Frameworks/Python.framework/Versions/3.10/lib/python3.10/site-packages (from matplotlib) (2.8.2)\n",
      "Requirement already satisfied: six>=1.5 in /Library/Frameworks/Python.framework/Versions/3.10/lib/python3.10/site-packages (from python-dateutil>=2.7->matplotlib) (1.16.0)\n",
      "Downloading networkx-3.4.2-py3-none-any.whl (1.7 MB)\n",
      "\u001b[2K   \u001b[90m━━━━━━━━━━━━━━━━━━━━━━━━━━━━━━━━━━━━━━━━\u001b[0m \u001b[32m1.7/1.7 MB\u001b[0m \u001b[31m6.7 MB/s\u001b[0m eta \u001b[36m0:00:00\u001b[0ma \u001b[36m0:00:01\u001b[0m\n",
      "\u001b[?25h\u001b[33mWARNING: Ignoring invalid distribution -umpy (/Library/Frameworks/Python.framework/Versions/3.10/lib/python3.10/site-packages)\u001b[0m\u001b[33m\n",
      "\u001b[0mInstalling collected packages: networkx\n",
      "\u001b[33mWARNING: Ignoring invalid distribution -umpy (/Library/Frameworks/Python.framework/Versions/3.10/lib/python3.10/site-packages)\u001b[0m\u001b[33m\n",
      "\u001b[0mSuccessfully installed networkx-3.4.2\n",
      "\n",
      "\u001b[1m[\u001b[0m\u001b[34;49mnotice\u001b[0m\u001b[1;39;49m]\u001b[0m\u001b[39;49m A new release of pip is available: \u001b[0m\u001b[31;49m24.2\u001b[0m\u001b[39;49m -> \u001b[0m\u001b[32;49m24.3.1\u001b[0m\n",
      "\u001b[1m[\u001b[0m\u001b[34;49mnotice\u001b[0m\u001b[1;39;49m]\u001b[0m\u001b[39;49m To update, run: \u001b[0m\u001b[32;49mpip install --upgrade pip\u001b[0m\n",
      "Note: you may need to restart the kernel to use updated packages.\n"
     ]
    }
   ],
   "source": [
    "%pip install networkx matplotlib"
   ]
  },
  {
   "cell_type": "code",
   "execution_count": null,
   "metadata": {},
   "outputs": [],
   "source": [
    "import re\n",
    "import random\n",
    "from collections import defaultdict\n",
    "import networkx as nx\n",
    "import matplotlib.pyplot as plt\n",
    "\n",
    "class MarkovChainPredictor:\n",
    "    def __init__(self):\n",
    "        self.transition_matrix = defaultdict(lambda: defaultdict(int))\n",
    "        self.terminal_states = set([\".\", \"!\", \"?\"])\n",
    "\n",
    "    def train(self, text):\n",
    "        \"\"\"\n",
    "        Entrena el modelo de cadenas de Markov usando un texto dado.\n",
    "        \n",
    "        :param text: Cadena con el texto de entrenamiento.\n",
    "        \"\"\"\n",
    "        # Dividir el texto en palabras y mantener la puntuación como estados terminales\n",
    "        words = re.findall(r'\\w+|[.!?]', text)\n",
    "        for i in range(len(words) - 1):\n",
    "            current_word = words[i]\n",
    "            next_word = words[i + 1]\n",
    "            self.transition_matrix[current_word][next_word] += 1\n",
    "\n",
    "    def visualize_transitions(self, word):\n",
    "        \"\"\"\n",
    "        Crea una visualización de las transiciones de una palabra específica.\n",
    "        \n",
    "        :param word: La palabra para la que se quiere visualizar las transiciones.\n",
    "        \"\"\"\n",
    "        if word not in self.transition_matrix:\n",
    "            print(f\"La palabra '{word}' no tiene transiciones registradas.\")\n",
    "            return\n",
    "\n",
    "        G = nx.DiGraph()\n",
    "\n",
    "        for next_word, count in self.transition_matrix[word].items():\n",
    "            G.add_edge(word, next_word, weight=count)\n",
    "\n",
    "        pos = nx.spring_layout(G)  # Posición de los nodos\n",
    "        plt.figure(figsize=(10, 6))\n",
    "\n",
    "        nx.draw_networkx_nodes(G, pos, node_size=700, node_color='lightblue')\n",
    "\n",
    "        edges = G.edges(data=True)\n",
    "        nx.draw_networkx_edges(\n",
    "            G, pos, edgelist=edges,\n",
    "            width=[data['weight'] for _, _, data in edges]\n",
    "        )\n",
    "\n",
    "        nx.draw_networkx_labels(G, pos, font_size=10, font_family=\"sans-serif\")\n",
    "        edge_labels = {(u, v): d['weight'] for u, v, d in edges}\n",
    "        nx.draw_networkx_edge_labels(G, pos, edge_labels=edge_labels)\n",
    "\n",
    "        plt.title(f\"Transiciones para la palabra '{word}'\")\n",
    "        plt.axis(\"off\")\n",
    "        plt.show()"
   ]
  },
  {
   "cell_type": "code",
   "execution_count": null,
   "metadata": {},
   "outputs": [],
   "source": [
    "with open(\"metegol_limpio.txt\", \"r\", encoding=\"utf-8\") as file:\n",
    "    texto_entrenamiento = file.read()"
   ]
  },
  {
   "cell_type": "code",
   "execution_count": 57,
   "metadata": {},
   "outputs": [
    {
     "data": {
      "image/png": "[encoded data removed]",
      "text/plain": [
       "<Figure size 720x432 with 1 Axes>"
      ]
     },
     "metadata": {},
     "output_type": "display_data"
    }
   ],
   "source": [
    "markov_predictor.visualize_transitions(\"Capi\")"
   ]
  }
 ],
 "metadata": {
  "kernelspec": {
   "display_name": "Python 3",
   "language": "python",
   "name": "python3"
  },
  "language_info": {
   "codemirror_mode": {
    "name": "ipython",
    "version": 3
   },
   "file_extension": ".py",
   "mimetype": "text/x-python",
   "name": "python",
   "nbconvert_exporter": "python",
   "pygments_lexer": "ipython3",
   "version": "3.10.8"
  }
 },
 "nbformat": 4,
 "nbformat_minor": 2
}
