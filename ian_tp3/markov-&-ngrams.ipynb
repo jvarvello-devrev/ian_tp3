{
 "cells": [
  {
   "cell_type": "markdown",
   "metadata": {},
   "source": [
    "# Metegol"
   ]
  },
  {
   "cell_type": "markdown",
   "metadata": {},
   "source": [
    "\n",
    "Metegol (2013), dirigida por Juan José Campanella, es una película argentina animada basada en el cuento \"Memorias de un wing derecho\" de Roberto Fontanarrosa. La trama sigue a Amadeo, un joven tímido experto en metegol, quien debe enfrentarse al egocéntrico El Crack, un futbolista profesional que regresa al pueblo para vengarse y destruirlo.\n",
    "\n",
    "Con un fuerte uso del español \"Argentino\", lleno de modismos y humor local, los jugadores del metegol cobran vida para ayudar a Amadeo a salvar su hogar en un partido épico. La película destaca por sus referencias al fútbol y un lenguaje que refuerza su identidad cultural argentina."
   ]
  },
  {
   "cell_type": "markdown",
   "metadata": {},
   "source": [
    "#### Instalamos requisitos"
   ]
  },
  {
   "cell_type": "code",
   "execution_count": 25,
   "metadata": {},
   "outputs": [
    {
     "name": "stdout",
     "output_type": "stream",
     "text": [
      "Defaulting to user installation because normal site-packages is not writeable\n",
      "Requirement already satisfied: networkx in /Users/juanvarvello/Library/Python/3.9/lib/python/site-packages (3.2.1)\n",
      "\n",
      "\u001b[1m[\u001b[0m\u001b[34;49mnotice\u001b[0m\u001b[1;39;49m]\u001b[0m\u001b[39;49m A new release of pip is available: \u001b[0m\u001b[31;49m24.2\u001b[0m\u001b[39;49m -> \u001b[0m\u001b[32;49m24.3.1\u001b[0m\n",
      "\u001b[1m[\u001b[0m\u001b[34;49mnotice\u001b[0m\u001b[1;39;49m]\u001b[0m\u001b[39;49m To update, run: \u001b[0m\u001b[32;49m/Library/Developer/CommandLineTools/usr/bin/python3 -m pip install --upgrade pip\u001b[0m\n",
      "Note: you may need to restart the kernel to use updated packages.\n",
      "Defaulting to user installation because normal site-packages is not writeable\n",
      "Requirement already satisfied: matplotlib in /Users/juanvarvello/Library/Python/3.9/lib/python/site-packages (3.9.2)\n",
      "Requirement already satisfied: contourpy>=1.0.1 in /Users/juanvarvello/Library/Python/3.9/lib/python/site-packages (from matplotlib) (1.3.0)\n",
      "Requirement already satisfied: cycler>=0.10 in /Users/juanvarvello/Library/Python/3.9/lib/python/site-packages (from matplotlib) (0.12.1)\n",
      "Requirement already satisfied: fonttools>=4.22.0 in /Users/juanvarvello/Library/Python/3.9/lib/python/site-packages (from matplotlib) (4.53.1)\n",
      "Requirement already satisfied: kiwisolver>=1.3.1 in /Users/juanvarvello/Library/Python/3.9/lib/python/site-packages (from matplotlib) (1.4.7)\n",
      "Requirement already satisfied: numpy>=1.23 in /Users/juanvarvello/Library/Python/3.9/lib/python/site-packages (from matplotlib) (2.0.2)\n",
      "Requirement already satisfied: packaging>=20.0 in /Users/juanvarvello/Library/Python/3.9/lib/python/site-packages (from matplotlib) (24.1)\n",
      "Requirement already satisfied: pillow>=8 in /Users/juanvarvello/Library/Python/3.9/lib/python/site-packages (from matplotlib) (10.4.0)\n",
      "Requirement already satisfied: pyparsing>=2.3.1 in /Users/juanvarvello/Library/Python/3.9/lib/python/site-packages (from matplotlib) (3.1.4)\n",
      "Requirement already satisfied: python-dateutil>=2.7 in /Users/juanvarvello/Library/Python/3.9/lib/python/site-packages (from matplotlib) (2.9.0.post0)\n",
      "Requirement already satisfied: importlib-resources>=3.2.0 in /Users/juanvarvello/Library/Python/3.9/lib/python/site-packages (from matplotlib) (6.4.4)\n",
      "Requirement already satisfied: zipp>=3.1.0 in /Users/juanvarvello/Library/Python/3.9/lib/python/site-packages (from importlib-resources>=3.2.0->matplotlib) (3.20.1)\n",
      "Requirement already satisfied: six>=1.5 in /Library/Developer/CommandLineTools/Library/Frameworks/Python3.framework/Versions/3.9/lib/python3.9/site-packages (from python-dateutil>=2.7->matplotlib) (1.15.0)\n",
      "\n",
      "\u001b[1m[\u001b[0m\u001b[34;49mnotice\u001b[0m\u001b[1;39;49m]\u001b[0m\u001b[39;49m A new release of pip is available: \u001b[0m\u001b[31;49m24.2\u001b[0m\u001b[39;49m -> \u001b[0m\u001b[32;49m24.3.1\u001b[0m\n",
      "\u001b[1m[\u001b[0m\u001b[34;49mnotice\u001b[0m\u001b[1;39;49m]\u001b[0m\u001b[39;49m To update, run: \u001b[0m\u001b[32;49m/Library/Developer/CommandLineTools/usr/bin/python3 -m pip install --upgrade pip\u001b[0m\n",
      "Note: you may need to restart the kernel to use updated packages.\n",
      "Defaulting to user installation because normal site-packages is not writeable\n",
      "Requirement already satisfied: numpy in /Users/juanvarvello/Library/Python/3.9/lib/python/site-packages (2.0.2)\n",
      "\n",
      "\u001b[1m[\u001b[0m\u001b[34;49mnotice\u001b[0m\u001b[1;39;49m]\u001b[0m\u001b[39;49m A new release of pip is available: \u001b[0m\u001b[31;49m24.2\u001b[0m\u001b[39;49m -> \u001b[0m\u001b[32;49m24.3.1\u001b[0m\n",
      "\u001b[1m[\u001b[0m\u001b[34;49mnotice\u001b[0m\u001b[1;39;49m]\u001b[0m\u001b[39;49m To update, run: \u001b[0m\u001b[32;49m/Library/Developer/CommandLineTools/usr/bin/python3 -m pip install --upgrade pip\u001b[0m\n",
      "Note: you may need to restart the kernel to use updated packages.\n"
     ]
    }
   ],
   "source": [
    "%pip install networkx\n",
    "%pip install matplotlib\n",
    "%pip install numpy"
   ]
  },
  {
   "cell_type": "markdown",
   "metadata": {},
   "source": [
    "### Cadenas de Markov"
   ]
  },
  {
   "cell_type": "markdown",
   "metadata": {},
   "source": [
    "Entrenamos el modelo"
   ]
  },
  {
   "cell_type": "code",
   "execution_count": 26,
   "metadata": {},
   "outputs": [],
   "source": [
    "import re\n",
    "import random\n",
    "from collections import defaultdict\n",
    "import networkx as nx\n",
    "import matplotlib.pyplot as plt\n",
    "\n",
    "class MarkovChainPredictor:\n",
    "    def __init__(self):\n",
    "        self.transition_matrix = defaultdict(lambda: defaultdict(int))\n",
    "        self.terminal_states = set([\".\", \"?\"])\n",
    "\n",
    "    def train(self, text):\n",
    "        \"\"\"\n",
    "        Entrena el modelo de cadenas de Markov usando un texto dado.\n",
    "        \n",
    "        :param text: Cadena con el texto de entrenamiento.\n",
    "        \"\"\"\n",
    "        words = re.findall(r'\\w+|[.!?]', text)\n",
    "        for i in range(len(words) - 1):\n",
    "            current_word = words[i]\n",
    "            next_word = words[i + 1]\n",
    "            self.transition_matrix[current_word][next_word] += 1\n",
    "\n",
    "    def print_transition_matrix_for_word(self, word):\n",
    "        \"\"\"\n",
    "        Imprime la matriz de transición para una palabra específica.\n",
    "        \n",
    "        :param word: La palabra para la que se quiere imprimir la matriz de transición.\n",
    "        \"\"\"\n",
    "        if word in self.transition_matrix:\n",
    "            print(f\"Transiciones para la palabra '{word}':\")\n",
    "            for next_word, count in self.transition_matrix[word].items():\n",
    "                print(f\"  {next_word}: {count}\")\n",
    "        else:\n",
    "            print(f\"La palabra '{word}' no tiene transiciones registradas.\")\n",
    "\n",
    "    def predict_next_word(self, current_word):\n",
    "        \"\"\"\n",
    "        Predice la siguiente palabra basada en el modelo de cadenas de Markov.\n",
    "        \n",
    "        :param current_word: La palabra actual.\n",
    "        :return: La siguiente palabra predicha o None si no hay una predicción.\n",
    "        \"\"\"\n",
    "        next_words = self.transition_matrix[current_word]\n",
    "        if not next_words:\n",
    "            return None\n",
    "\n",
    "        total_transitions = sum(next_words.values())\n",
    "        words, probabilities = zip(*[(word, count / total_transitions) for word, count in next_words.items()])\n",
    "\n",
    "        return random.choices(words, probabilities)[0]\n",
    "\n",
    "    def generate_sentence(self, start_word):\n",
    "        \"\"\"\n",
    "        Genera una oración a partir de una palabra inicial hasta llegar a un estado terminal.\n",
    "        \n",
    "        :param start_word: La palabra inicial de la oración.\n",
    "        :return: Una oración generada como cadena.\n",
    "        \"\"\"\n",
    "        current_word = start_word\n",
    "        sentence = [current_word]\n",
    "\n",
    "        while current_word not in self.terminal_states:\n",
    "            next_word = self.predict_next_word(current_word)\n",
    "            if not next_word:\n",
    "                break\n",
    "            sentence.append(next_word)\n",
    "            current_word = next_word\n",
    "\n",
    "        return \" \".join(sentence)\n",
    "    \n",
    "    def visualize_transitions(self, word):\n",
    "        \"\"\"\n",
    "        Crea una visualización de las transiciones de una palabra específica.\n",
    "        \n",
    "        :param word: La palabra para la que se quiere visualizar las transiciones.\n",
    "        \"\"\"\n",
    "        if word not in self.transition_matrix:\n",
    "            print(f\"La palabra '{word}' no tiene transiciones registradas.\")\n",
    "            return\n",
    "\n",
    "        G = nx.DiGraph()\n",
    "\n",
    "        for next_word, count in self.transition_matrix[word].items():\n",
    "            G.add_edge(word, next_word, weight=count)\n",
    "\n",
    "        pos = nx.spring_layout(G)  # Posición de los nodos\n",
    "        plt.figure(figsize=(10, 6))\n",
    "\n",
    "        nx.draw_networkx_nodes(G, pos, node_size=700, node_color='lightblue')\n",
    "\n",
    "        edges = G.edges(data=True)\n",
    "        nx.draw_networkx_edges(\n",
    "            G, pos, edgelist=edges,\n",
    "            width=[data['weight'] for _, _, data in edges]\n",
    "        )\n",
    "\n",
    "        nx.draw_networkx_labels(G, pos, font_size=10, font_family=\"sans-serif\")\n",
    "        edge_labels = {(u, v): d['weight'] for u, v, d in edges}\n",
    "        nx.draw_networkx_edge_labels(G, pos, edge_labels=edge_labels)\n",
    "\n",
    "        plt.title(f\"Transiciones para la palabra '{word}'\")\n",
    "        plt.axis(\"off\")\n",
    "        plt.show()"
   ]
  },
  {
   "cell_type": "code",
   "execution_count": 27,
   "metadata": {},
   "outputs": [],
   "source": [
    "with open(\"metegol_limpio.txt\", \"r\", encoding=\"utf-8\") as file:\n",
    "    texto_entrenamiento = file.read()\n"
   ]
  },
  {
   "cell_type": "code",
   "execution_count": 28,
   "metadata": {},
   "outputs": [],
   "source": [
    "markov_predictor = MarkovChainPredictor()\n",
    "markov_predictor.train(texto_entrenamiento)"
   ]
  },
  {
   "cell_type": "markdown",
   "metadata": {},
   "source": [
    "Imprimos la matrix de posibles palabras a continuacion de \"gol\""
   ]
  },
  {
   "cell_type": "code",
   "execution_count": 29,
   "metadata": {},
   "outputs": [
    {
     "name": "stdout",
     "output_type": "stream",
     "text": [
      "Transiciones para la palabra 'gol':\n",
      "  .: 3\n",
      "  ni: 1\n",
      "  !: 5\n",
      "  de: 1\n"
     ]
    }
   ],
   "source": [
    "markov_predictor.print_transition_matrix_for_word(\"gol\")"
   ]
  },
  {
   "cell_type": "markdown",
   "metadata": {},
   "source": [
    "Generamos cinco oraciones a partir de la palabra \"gol\" y otras cinco a partir de la palabra \"Amadeo\". Este mismo proceso se puede aplicar con otras palabras"
   ]
  },
  {
   "cell_type": "code",
   "execution_count": 30,
   "metadata": {},
   "outputs": [
    {
     "name": "stdout",
     "output_type": "stream",
     "text": [
      "gol de aquí ?\n",
      "gol de su alrededor .\n",
      "gol ! Pulpo ! El verde no le pega ! Hay tantas cosas .\n",
      "gol .\n",
      "gol .\n"
     ]
    }
   ],
   "source": [
    "for x in range(5):\n",
    "    oracion_generada = markov_predictor.generate_sentence(\"gol\")\n",
    "    print(oracion_generada)"
   ]
  },
  {
   "cell_type": "code",
   "execution_count": 31,
   "metadata": {},
   "outputs": [
    {
     "name": "stdout",
     "output_type": "stream",
     "text": [
      "Amadeo .\n",
      "Amadeo de adorno ?\n",
      "Amadeo intentando torcer el Grosso .\n",
      "Amadeo .\n",
      "Amadeo que se dice Pasión ! Piel de chatarra con una vista certera un toro imposible de las reglas no entró ! Inútiles ! Increíble ! La culpa la posición del norte de gallina .\n"
     ]
    }
   ],
   "source": [
    "for x in range(5):\n",
    "    oracion_generada = markov_predictor.generate_sentence(\"Amadeo\")\n",
    "    print(oracion_generada)"
   ]
  },
  {
   "cell_type": "markdown",
   "metadata": {},
   "source": [
    "Podemos imprimir y visualizar cuales son los caracteres o palabras que mas le siguen a la palabra \"Gol\""
   ]
  },
  {
   "cell_type": "code",
   "execution_count": 32,
   "metadata": {},
   "outputs": [
    {
     "data": {
      "image/png": "[encoded data removed]",
      "text/plain": [
       "<Figure size 1000x600 with 1 Axes>"
      ]
     },
     "metadata": {},
     "output_type": "display_data"
    }
   ],
   "source": [
    "markov_predictor.visualize_transitions(\"Gol\")"
   ]
  },
  {
   "cell_type": "markdown",
   "metadata": {},
   "source": [
    "### N-gramas"
   ]
  },
  {
   "cell_type": "markdown",
   "metadata": {},
   "source": [
    "Entrenamos el modelo"
   ]
  },
  {
   "cell_type": "code",
   "execution_count": 33,
   "metadata": {},
   "outputs": [],
   "source": [
    "import re\n",
    "import random\n",
    "from collections import defaultdict, Counter\n",
    "\n",
    "class NgramModel:\n",
    "    def __init__(self, n):\n",
    "        self.n = n\n",
    "        self.ngram_counts = defaultdict(lambda: defaultdict(int))\n",
    "        self.global_word_counts = defaultdict(int)  # Frecuencia global de palabras\n",
    "\n",
    "    def train(self, text):\n",
    "        \"\"\"\n",
    "        Entrena el modelo de n-gramas usando un texto dado.\n",
    "        \"\"\"\n",
    "        text = text.lower()  # Ignorar mayúsculas y minúsculas\n",
    "        words = re.findall(r'\\w+|[.,!?;:]', text)\n",
    "        for i in range(len(words) - self.n + 1):\n",
    "            ngram = tuple(words[i:i + self.n - 1])\n",
    "            next_word = words[i + self.n - 1]\n",
    "            self.ngram_counts[ngram][next_word] += 1\n",
    "\n",
    "        # Contar frecuencias globales de palabras\n",
    "        for word in words:\n",
    "            self.global_word_counts[word] += 1\n",
    "\n",
    "    def complete_sentence(self, partial_sentence):\n",
    "        \"\"\"\n",
    "        Completa la frase dada (con una palabra faltante).\n",
    "        \"\"\"\n",
    "        partial_sentence = partial_sentence.lower()  # Convertir a minúsculas\n",
    "        words = re.findall(r'\\w+', partial_sentence)\n",
    "\n",
    "        if len(words) < self.n - 1:\n",
    "            raise ValueError(f\"La frase debe tener al menos {self.n - 1} palabras para completar.\")\n",
    "\n",
    "        # Tomar las últimas (n-1) palabras del contexto dado\n",
    "        context = words[-(self.n - 1):]\n",
    "        next_word = self.predict_next_word(context)\n",
    "        \n",
    "        # Devolver la frase completada\n",
    "        return ' '.join(words) + ' ' + next_word\n",
    "\n",
    "    def predict_next_word(self, context):\n",
    "        \"\"\"\n",
    "        Predice la siguiente palabra basándose en el contexto de n-1 palabras.\n",
    "        Si el contexto no existe, selecciona una palabra basada en coincidencias parciales o globales.\n",
    "        \"\"\"\n",
    "        if len(context) != self.n - 1:\n",
    "            raise ValueError(f\"El contexto debe tener {self.n - 1} palabras.\")\n",
    "\n",
    "        context_tuple = tuple(context)\n",
    "        next_word_candidates = self.ngram_counts.get(context_tuple, None)\n",
    "\n",
    "        if next_word_candidates:\n",
    "            # Caso 1: El contexto existe exactamente\n",
    "            words, counts = zip(*next_word_candidates.items())\n",
    "            probabilities = [count / sum(counts) for count in counts]\n",
    "            # print(f\"Candidatos exactos: {words}, Probabilidades: {probabilities}\")\n",
    "            return random.choices(words, probabilities)[0]\n",
    "        else:\n",
    "            # Caso 2: Buscar coincidencias parciales\n",
    "            partial_matches = self.find_partial_matches(context)\n",
    "            if partial_matches:\n",
    "                words, counts = zip(*partial_matches.items())\n",
    "                probabilities = [count / sum(counts) for count in counts]\n",
    "                # print(f\"Candidatos parciales: {words}, Probabilidades: {probabilities}\")\n",
    "                return random.choices(words, probabilities)[0]\n",
    "            else:\n",
    "                # Caso 3: Selección aleatoria global como último recurso\n",
    "                # print(f\"El contexto {' '.join(context)} no tiene coincidencias exactas ni parciales.\")\n",
    "                words, counts = zip(*self.global_word_counts.items())\n",
    "                probabilities = [count / sum(counts) for count in counts]\n",
    "                return random.choices(words, probabilities)[0]\n",
    "                pass\n",
    "\n",
    "    def find_partial_matches(self, context):\n",
    "        \"\"\"\n",
    "        Encuentra palabras que podrían ser candidatas basándose en coincidencias parciales del contexto.\n",
    "        \"\"\"\n",
    "        matches = Counter()\n",
    "        for ngram, next_words in self.ngram_counts.items():\n",
    "            # Verifica cuántas palabras del contexto están presentes en el ngram\n",
    "            if any(word in ngram for word in context):\n",
    "                for word, count in next_words.items():\n",
    "                    matches[word] += count\n",
    "        return matches\n"
   ]
  },
  {
   "cell_type": "code",
   "execution_count": 34,
   "metadata": {},
   "outputs": [],
   "source": [
    "with open(\"metegol_limpio.txt\", \"r\", encoding=\"utf-8\") as file:\n",
    "        texto_entrenamiento = file.read()"
   ]
  },
  {
   "cell_type": "markdown",
   "metadata": {},
   "source": [
    "Probamos con distintos valor de N para verificar si el contexto utilizado genera alguna diferencia en el resultado"
   ]
  },
  {
   "cell_type": "code",
   "execution_count": 65,
   "metadata": {},
   "outputs": [
    {
     "name": "stdout",
     "output_type": "stream",
     "text": [
      "Frase generada: vamos amadeo que este llevaron nos pueblo muy aniquilan lejos .\n"
     ]
    }
   ],
   "source": [
    "model = NgramModel(n=4)\n",
    "model.train(texto_entrenamiento)\n",
    "\n",
    "# Frase inicial\n",
    "partial_sentence = \"vamos amadeo que\"\n",
    "    \n",
    "# Generar una secuencia de 5 frases a partir de la frase inicial\n",
    "for _ in range(10):\n",
    "    completed_sentence = model.complete_sentence(partial_sentence)\n",
    "        \n",
    "    # Actualizar la frase parcial con la nueva frase generada (última palabra)\n",
    "    partial_sentence = completed_sentence\n",
    "\n",
    "print(f\"Frase generada: {completed_sentence}\")"
   ]
  },
  {
   "cell_type": "code",
   "execution_count": 48,
   "metadata": {},
   "outputs": [
    {
     "name": "stdout",
     "output_type": "stream",
     "text": [
      "Frase generada: vamos amadeo que fueron estos representan el esófago !\n"
     ]
    }
   ],
   "source": [
    "model = NgramModel(n=2)\n",
    "model.train(texto_entrenamiento)\n",
    "\n",
    "# Frase inicial\n",
    "partial_sentence = \"vamos amadeo que\"\n",
    "    \n",
    "# Generar una secuencia de 5 frases a partir de la frase inicial\n",
    "for _ in range(10):\n",
    "    completed_sentence = model.complete_sentence(partial_sentence)        \n",
    "    # Actualizar la frase parcial con la nueva frase generada (última palabra)\n",
    "    partial_sentence = completed_sentence\n",
    "\n",
    "print(f\"Frase generada: {completed_sentence}\")"
   ]
  },
  {
   "cell_type": "markdown",
   "metadata": {},
   "source": [
    "Otro ejemplo..."
   ]
  },
  {
   "cell_type": "code",
   "execution_count": 46,
   "metadata": {},
   "outputs": [
    {
     "name": "stdout",
     "output_type": "stream",
     "text": [
      "Frase generada: tu eres el chico tenía una masacre .\n"
     ]
    }
   ],
   "source": [
    "model = NgramModel(n=2)\n",
    "model.train(texto_entrenamiento)\n",
    "\n",
    "# Frase inicial\n",
    "partial_sentence = \"tu eres\"\n",
    "    \n",
    "# Generar una secuencia de 5 frases a partir de la frase inicial\n",
    "for _ in range(10):\n",
    "    completed_sentence = model.complete_sentence(partial_sentence)        \n",
    "    # Actualizar la frase parcial con la nueva frase generada (última palabra)\n",
    "    partial_sentence = completed_sentence\n",
    "\n",
    "print(f\"Frase generada: {completed_sentence}\")"
   ]
  },
  {
   "cell_type": "code",
   "execution_count": 45,
   "metadata": {},
   "outputs": [
    {
     "name": "stdout",
     "output_type": "stream",
     "text": [
      "Frase generada: tu eres el más rápido del pueblo .\n"
     ]
    }
   ],
   "source": [
    "model = NgramModel(n=3)\n",
    "model.train(texto_entrenamiento)\n",
    "\n",
    "# Frase inicial\n",
    "partial_sentence = \"tu eres\"\n",
    "    \n",
    "# Generar una secuencia de 5 frases a partir de la frase inicial\n",
    "for _ in range(10):\n",
    "    completed_sentence = model.complete_sentence(partial_sentence)        \n",
    "    # Actualizar la frase parcial con la nueva frase generada (última palabra)\n",
    "    partial_sentence = completed_sentence\n",
    "\n",
    "print(f\"Frase generada: {completed_sentence}\")"
   ]
  }
 ],
 "metadata": {
  "kernelspec": {
   "display_name": "Python 3",
   "language": "python",
   "name": "python3"
  },
  "language_info": {
   "codemirror_mode": {
    "name": "ipython",
    "version": 3
   },
   "file_extension": ".py",
   "mimetype": "text/x-python",
   "name": "python",
   "nbconvert_exporter": "python",
   "pygments_lexer": "ipython3",
   "version": "3.9.6"
  }
 },
 "nbformat": 4,
 "nbformat_minor": 2
}
