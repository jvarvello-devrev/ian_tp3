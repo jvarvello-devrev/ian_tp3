{
 "cells": [
  {
   "cell_type": "markdown",
   "metadata": {},
   "source": [
    "### Cadenas de markov para predecir el lenguaje - Metegol"
   ]
  },
  {
   "cell_type": "code",
   "execution_count": 195,
   "metadata": {},
   "outputs": [],
   "source": [
    "import re\n",
    "import random\n",
    "from collections import defaultdict\n",
    "import networkx as nx\n",
    "import matplotlib.pyplot as plt\n",
    "\n",
    "class MarkovChainPredictor:\n",
    "    def __init__(self):\n",
    "        self.transition_matrix = defaultdict(lambda: defaultdict(int))\n",
    "        self.terminal_states = set([\".\", \"?\"])\n",
    "\n",
    "    def train(self, text):\n",
    "        \"\"\"\n",
    "        Entrena el modelo de cadenas de Markov usando un texto dado.\n",
    "        \n",
    "        :param text: Cadena con el texto de entrenamiento.\n",
    "        \"\"\"\n",
    "        words = re.findall(r'\\w+|[.!?]', text)\n",
    "        for i in range(len(words) - 1):\n",
    "            current_word = words[i]\n",
    "            next_word = words[i + 1]\n",
    "            self.transition_matrix[current_word][next_word] += 1\n",
    "\n",
    "    def print_transition_matrix_for_word(self, word):\n",
    "        \"\"\"\n",
    "        Imprime la matriz de transición para una palabra específica.\n",
    "        \n",
    "        :param word: La palabra para la que se quiere imprimir la matriz de transición.\n",
    "        \"\"\"\n",
    "        if word in self.transition_matrix:\n",
    "            print(f\"Transiciones para la palabra '{word}':\")\n",
    "            for next_word, count in self.transition_matrix[word].items():\n",
    "                print(f\"  {next_word}: {count}\")\n",
    "        else:\n",
    "            print(f\"La palabra '{word}' no tiene transiciones registradas.\")\n",
    "\n",
    "    def predict_next_word(self, current_word):\n",
    "        \"\"\"\n",
    "        Predice la siguiente palabra basada en el modelo de cadenas de Markov.\n",
    "        \n",
    "        :param current_word: La palabra actual.\n",
    "        :return: La siguiente palabra predicha o None si no hay una predicción.\n",
    "        \"\"\"\n",
    "        next_words = self.transition_matrix[current_word]\n",
    "        if not next_words:\n",
    "            return None\n",
    "\n",
    "        total_transitions = sum(next_words.values())\n",
    "        words, probabilities = zip(*[(word, count / total_transitions) for word, count in next_words.items()])\n",
    "\n",
    "        return random.choices(words, probabilities)[0]\n",
    "\n",
    "    def generate_sentence(self, start_word):\n",
    "        \"\"\"\n",
    "        Genera una oración a partir de una palabra inicial hasta llegar a un estado terminal.\n",
    "        \n",
    "        :param start_word: La palabra inicial de la oración.\n",
    "        :return: Una oración generada como cadena.\n",
    "        \"\"\"\n",
    "        current_word = start_word\n",
    "        sentence = [current_word]\n",
    "\n",
    "        while current_word not in self.terminal_states:\n",
    "            next_word = self.predict_next_word(current_word)\n",
    "            if not next_word:\n",
    "                break\n",
    "            sentence.append(next_word)\n",
    "            current_word = next_word\n",
    "\n",
    "        return \" \".join(sentence)\n",
    "    \n",
    "    def visualize_transitions(self, word):\n",
    "        \"\"\"\n",
    "        Crea una visualización de las transiciones de una palabra específica.\n",
    "        \n",
    "        :param word: La palabra para la que se quiere visualizar las transiciones.\n",
    "        \"\"\"\n",
    "        if word not in self.transition_matrix:\n",
    "            print(f\"La palabra '{word}' no tiene transiciones registradas.\")\n",
    "            return\n",
    "\n",
    "        G = nx.DiGraph()\n",
    "\n",
    "        for next_word, count in self.transition_matrix[word].items():\n",
    "            G.add_edge(word, next_word, weight=count)\n",
    "\n",
    "        pos = nx.spring_layout(G)  # Posición de los nodos\n",
    "        plt.figure(figsize=(10, 6))\n",
    "\n",
    "        nx.draw_networkx_nodes(G, pos, node_size=700, node_color='lightblue')\n",
    "\n",
    "        edges = G.edges(data=True)\n",
    "        nx.draw_networkx_edges(\n",
    "            G, pos, edgelist=edges,\n",
    "            width=[data['weight'] for _, _, data in edges]\n",
    "        )\n",
    "\n",
    "        nx.draw_networkx_labels(G, pos, font_size=10, font_family=\"sans-serif\")\n",
    "        edge_labels = {(u, v): d['weight'] for u, v, d in edges}\n",
    "        nx.draw_networkx_edge_labels(G, pos, edge_labels=edge_labels)\n",
    "\n",
    "        plt.title(f\"Transiciones para la palabra '{word}'\")\n",
    "        plt.axis(\"off\")\n",
    "        plt.show()"
   ]
  },
  {
   "cell_type": "code",
   "execution_count": 196,
   "metadata": {},
   "outputs": [],
   "source": [
    "with open(\"metegol_limpio.txt\", \"r\", encoding=\"utf-8\") as file:\n",
    "    texto_entrenamiento = file.read()\n"
   ]
  },
  {
   "cell_type": "code",
   "execution_count": 197,
   "metadata": {},
   "outputs": [],
   "source": [
    "markov_predictor = MarkovChainPredictor()\n",
    "markov_predictor.train(texto_entrenamiento)"
   ]
  },
  {
   "cell_type": "code",
   "execution_count": 198,
   "metadata": {},
   "outputs": [
    {
     "name": "stdout",
     "output_type": "stream",
     "text": [
      "Transiciones para la palabra 'gol':\n",
      "  .: 3\n",
      "  ni: 1\n",
      "  !: 5\n",
      "  de: 1\n"
     ]
    }
   ],
   "source": [
    "markov_predictor.print_transition_matrix_for_word(\"gol\")"
   ]
  },
  {
   "cell_type": "code",
   "execution_count": 199,
   "metadata": {},
   "outputs": [],
   "source": [
    "oracion_generada = markov_predictor.generate_sentence(\"gol\")"
   ]
  },
  {
   "cell_type": "code",
   "execution_count": 200,
   "metadata": {},
   "outputs": [
    {
     "data": {
      "text/plain": [
       "'gol ! Pase sorpresivo para Cuevas .'"
      ]
     },
     "execution_count": 200,
     "metadata": {},
     "output_type": "execute_result"
    }
   ],
   "source": [
    "oracion_generada"
   ]
  },
  {
   "cell_type": "code",
   "execution_count": 201,
   "metadata": {},
   "outputs": [
    {
     "data": {
      "text/plain": [
       "'gol ! Travesaño ! La Aguada Coffee Stores Noentendo Werner Sisters Bank of Atlantis Grupo Preso WHIRL POO Indy Frunde D Sheguen Le Scorbut Gourmet Food .'"
      ]
     },
     "execution_count": 201,
     "metadata": {},
     "output_type": "execute_result"
    }
   ],
   "source": [
    "markov_predictor.generate_sentence(\"gol\")"
   ]
  },
  {
   "cell_type": "code",
   "execution_count": 202,
   "metadata": {},
   "outputs": [
    {
     "data": {
      "text/plain": [
       "'gol ! La culpa la cabeza y yo .'"
      ]
     },
     "execution_count": 202,
     "metadata": {},
     "output_type": "execute_result"
    }
   ],
   "source": [
    "markov_predictor.generate_sentence(\"gol\")"
   ]
  },
  {
   "cell_type": "code",
   "execution_count": 203,
   "metadata": {},
   "outputs": [
    {
     "data": {
      "text/plain": [
       "'Amadeo .'"
      ]
     },
     "execution_count": 203,
     "metadata": {},
     "output_type": "execute_result"
    }
   ],
   "source": [
    "markov_predictor.generate_sentence(\"Amadeo\")"
   ]
  },
  {
   "cell_type": "code",
   "execution_count": 204,
   "metadata": {},
   "outputs": [
    {
     "data": {
      "text/plain": [
       "'Amadeo .'"
      ]
     },
     "execution_count": 204,
     "metadata": {},
     "output_type": "execute_result"
    }
   ],
   "source": [
    "markov_predictor.generate_sentence(\"Amadeo\")"
   ]
  },
  {
   "cell_type": "code",
   "execution_count": 205,
   "metadata": {},
   "outputs": [
    {
     "name": "stdout",
     "output_type": "stream",
     "text": [
      "Che Donald ! Si sabes cómo le implora y se llenó de Amadeo ?\n",
      "Che Donald ! Enciéndela ! Un claro homenaje a Dios .\n",
      "Che Donald ! No me importa .\n",
      "Che Donald ! Eusebio Daniel Quintana .\n",
      "Che Donald ! Listo .\n",
      "Che Donald ! ESSA Cheaty Cheaty Cheaty Bank La pasa este maravilloso ante los habitantes prefirieron fundar un gran caudillo .\n",
      "Che Donald ! Vamos Rabia quieta .\n",
      "Che Donald ! Gol del arquero ! Esto va a mí me hacen ?\n",
      "Che Donald ! El cura me digas recién comienza .\n",
      "Che Donald ! Amadeo bienaventurado tú y además es la tengo nada .\n",
      "Che Donald ! Gol concebido planeado financiado por esta ropa .\n",
      "Che Donald ! Lo odio ! No sé cómo se muestra que tienes que se llenó de pueblo hasta que lo llevamos .\n",
      "Che Donald ! Amadeo .\n",
      "Che Donald ! No sé .\n",
      "Che Donald ! Listo .\n",
      "Che Donald ! Centro que me emociona siempre .\n",
      "Che Donald ! Centro y empezamos .\n",
      "Che Donald ! Y el Beto conoce el nuestro .\n",
      "Che Donald ! Vamos a tener .\n",
      "Che Donald ! Nunca vi a la sensibilidad y estará todo oídos .\n",
      "Che Donald ! Gol ! Pulpo Benítez .\n",
      "Che Donald ! Gol del mundo .\n",
      "Che Donald ! Gané ! Travesaño ! Inútiles ! Beto ! Enciéndela ! Un partidito en la barrera .\n",
      "Che Donald ! Gol de dar vuelta a enseñar ?\n",
      "Che Donald ! Ya era el pueblo .\n",
      "Che Donald ! Se divierten ?\n",
      "Che Donald ! Tira el destino .\n",
      "Che Donald ! Qué pasa este payaso ! La estupidez es tibio y mira ! Capi .\n",
      "Che Donald ! Nunca tengas miedo ?\n",
      "Che Donald ! Encuéntralos .\n",
      "Che Donald ! Pareces una pesadilla para Quintana .\n",
      "Che Donald ! Dos letras .\n",
      "Che Donald ! Lo metemos al inigualable al Emo Kracorian .\n",
      "Che Donald ! Travesaño ! No cantemos victoria ! Maldito pueblo muy difícil .\n",
      "Che Donald ! Amadeo al área y con puré ! Corta McAntony .\n",
      "Che Donald ! Bueno a ver .\n",
      "Che Donald ! Roba la estirada del norte de comunicación falta un maxikiosco .\n",
      "Che Donald ! Lárgala ! Piel de la cara .\n",
      "Che Donald ! Gané ! Déjame .\n",
      "Che Donald ! Nos llaman ! Golazo del Grosso intercepta ese metegol .\n",
      "Che Donald ! Pobre Beto siempre .\n",
      "Che Donald ! Se agrandó la mañana .\n",
      "Che Donald ! Pase profundo para Amadeo nos necesita a hacer y discutirle de hijo .\n",
      "Che Donald ! Qué miedo a mi hermano sácame esta no me calle .\n",
      "Che Donald ! Ahora sí .\n",
      "Che Donald ! Pone el balón y elude a compañeros en serio .\n",
      "Che Donald ! Gol concebido planeado financiado por mí .\n",
      "Che Donald ! Ya está qué poca fe .\n",
      "Che Donald ! Ahí voy .\n",
      "Che Donald ! Amadeo bienaventurado tú estás .\n",
      "Che Donald ! No sabe que me hizo mimbre bajo mi adherencia .\n",
      "Che Donald ! Sigan ! No se juegan nada sin ti .\n",
      "Che Donald ! Aquí ! Otra vez el marcador .\n",
      "Che Donald ! Inútiles ! Quién es triste .\n",
      "Che Donald ! El equipo de verdad .\n",
      "Che Donald ! No espera .\n",
      "Che Donald ! Enciéndela ! Beto .\n",
      "Che Donald ! Estás frente a dejar en paz .\n",
      "Che Donald ! Por primera vez para enfrentarlo .\n",
      "Che Donald ! Acabo de cruzar por fin reacciona .\n",
      "Che Donald ! Laura sí gol de los demás ?\n",
      "Che Donald ! No no la victoria .\n",
      "Che Donald ! Piel de metegol .\n",
      "Che Donald ! Juégale .\n",
      "Che Donald ! Gol ! El Subcomisario Bautista Pisano .\n",
      "Che Donald ! No esto .\n",
      "Che Donald ! Enciéndela ! Miren ! Laura .\n",
      "Che Donald ! Te daría la camiseta puesta .\n",
      "Che Donald ! Gol del aire de la cara .\n",
      "Che Donald ! Recibe el Laucha Navarro amaga .\n",
      "Che Donald ! Bien Amadeo .\n",
      "Che Donald ! Hay algo que tú estás diciendo mi vida te quiero igual .\n",
      "Che Donald ! Amadeo .\n",
      "Che Donald ! Mira esto ?\n",
      "Che Donald ! Beto .\n",
      "Che Donald ! Dos letras .\n",
      "Che Donald ! Acá estoy acá y gol .\n",
      "Che Donald ! Ya vas a Amadeo .\n",
      "Che Donald ! Encuéntralos .\n",
      "Che Donald ! Tira el Laucha .\n",
      "Che Donald ! Vamos .\n",
      "Che Donald ! Vamos .\n",
      "Che Donald ! Maldito pueblo asqueroso .\n",
      "Che Donald ! Gané ! Gané ! Ey alto ! Te lo extraña al Laucha .\n",
      "Che Donald ! No importa .\n",
      "Che Donald ! A jugar conmigo .\n",
      "Che Donald ! Se fue dejando la pone para el basural .\n",
      "Che Donald ! Qué hiciste ?\n",
      "Che Donald ! Apúrate ! Planchazo abajo ! No no necesitamos .\n",
      "Che Donald ! El Beto hizo lo que tienes que esta separación .\n",
      "Che Donald ! Felices los marcadores .\n",
      "Che Donald ! No a dejar acá en la cosa .\n",
      "Che Donald ! Pase corto para ver .\n",
      "Che Donald ! Vamos Eusebio ! Yo yo ! Cuánto falta ?\n",
      "Che Donald ! Golazo ! Para qué lo necesitan .\n",
      "Che Donald ! Qué me escucha .\n",
      "Che Donald ! Uno más fuerte .\n",
      "Che Donald ! Para esto ?\n",
      "Che Donald ! Socorro ! Amadeo .\n",
      "Che Donald ! Laura ?\n"
     ]
    }
   ],
   "source": [
    "for i in range(100):\n",
    "    print(markov_predictor.generate_sentence(\"Che\"))"
   ]
  },
  {
   "cell_type": "code",
   "execution_count": 206,
   "metadata": {},
   "outputs": [],
   "source": [
    "with open(\"metegol_limpio.txt\", \"r\", encoding=\"utf-8\") as file:\n",
    "    texto_entrenamiento = file.read()"
   ]
  },
  {
   "cell_type": "code",
   "execution_count": 207,
   "metadata": {},
   "outputs": [
    {
     "data": {
      "image/png": "[encoded data removed]",
      "text/plain": [
       "<Figure size 720x432 with 1 Axes>"
      ]
     },
     "metadata": {},
     "output_type": "display_data"
    }
   ],
   "source": [
    "markov_predictor.visualize_transitions(\"Capi\")"
   ]
  },
  {
   "cell_type": "markdown",
   "metadata": {},
   "source": [
    "## n-gramas"
   ]
  },
  {
   "cell_type": "code",
   "execution_count": 208,
   "metadata": {},
   "outputs": [],
   "source": [
    "import re\n",
    "import random\n",
    "from collections import defaultdict\n",
    "\n",
    "class NgramModel:\n",
    "    def __init__(self, n):\n",
    "        self.n = n\n",
    "        self.ngram_counts = defaultdict(lambda: defaultdict(int))\n",
    "    \n",
    "    def train(self, text):\n",
    "        \"\"\"\n",
    "        Entrena el modelo de n-gramas usando un texto dado.\n",
    "        \n",
    "        :param text: Cadena con el texto de entrenamiento.\n",
    "        \"\"\"\n",
    "        words = re.findall(r'\\w+', text.lower())\n",
    "        for i in range(len(words) - self.n + 1):\n",
    "            ngram = tuple(words[i:i + self.n - 1])\n",
    "            next_word = words[i + self.n - 1]\n",
    "            self.ngram_counts[ngram][next_word] += 1\n",
    "\n",
    "    def generate_text(self, start_words, max_length=50):\n",
    "        \"\"\"\n",
    "        Genera una secuencia de palabras basada en el modelo de n-gramas.\n",
    "        \n",
    "        :param start_words: Lista de palabras iniciales (debe tener longitud n-1).\n",
    "        :param max_length: Número máximo de palabras a generar.\n",
    "        :return: Una cadena con la secuencia generada.\n",
    "        \"\"\"\n",
    "        current_context = tuple(start_words)\n",
    "        output = list(current_context)\n",
    "\n",
    "        for _ in range(max_length):\n",
    "            next_word = self.predict_next_word(current_context)\n",
    "            if not next_word:\n",
    "                break\n",
    "            output.append(next_word)\n",
    "            current_context = tuple(output[-(self.n - 1):])\n",
    "\n",
    "        return \" \".join(output)\n",
    "    def predict_next_word(self, context):\n",
    "        \"\"\"\n",
    "        Predice la siguiente palabra basándose en el contexto de n-1 palabras.\n",
    "        \n",
    "        :param context: Tupla de n-1 palabras.\n",
    "        :return: La siguiente palabra elegida probabilísticamente o None si no hay datos.\n",
    "        \"\"\"\n",
    "        next_word_candidates = self.ngram_counts.get(context, None)\n",
    "        if not next_word_candidates:\n",
    "            return None\n",
    "\n",
    "        words, counts = zip(*next_word_candidates.items())\n",
    "        probabilities = [count / sum(counts) for count in counts]\n",
    "        return random.choices(words, probabilities)[0]\n"
   ]
  },
  {
   "cell_type": "code",
   "execution_count": 209,
   "metadata": {},
   "outputs": [],
   "source": [
    "with open(\"metegol_limpio.txt\", \"r\", encoding=\"utf-8\") as file:\n",
    "    texto_entrenamiento = file.read()"
   ]
  },
  {
   "cell_type": "code",
   "execution_count": 210,
   "metadata": {},
   "outputs": [],
   "source": [
    "ngram_model = NgramModel(n=3)\n",
    "ngram_model.train(texto_entrenamiento)"
   ]
  },
  {
   "cell_type": "code",
   "execution_count": 222,
   "metadata": {},
   "outputs": [
    {
     "name": "stdout",
     "output_type": "stream",
     "text": [
      "Contexto: ('lo', 'amadeo')\n",
      "Siguiente palabra: None\n"
     ]
    }
   ],
   "source": [
    "contexto = (\"lo\", \"amadeo\")\n",
    "siguiente_palabra = ngram_model.predict_next_word(contexto)\n",
    "print(f\"Contexto: {contexto}\")\n",
    "print(f\"Siguiente palabra: {siguiente_palabra}\")\n"
   ]
  },
  {
   "cell_type": "code",
   "execution_count": 220,
   "metadata": {},
   "outputs": [
    {
     "name": "stdout",
     "output_type": "stream",
     "text": [
      "Oración generada: amadeo lo\n"
     ]
    }
   ],
   "source": [
    "oracion_generada = ngram_model.generate_text([\"amadeo\", \"lo\"], max_length=10)\n",
    "print(\"Oración generada:\", oracion_generada)"
   ]
  },
  {
   "cell_type": "code",
   "execution_count": 13,
   "metadata": {},
   "outputs": [
    {
     "name": "stdout",
     "output_type": "stream",
     "text": [
      "Defaulting to user installation because normal site-packages is not writeable\n",
      "Requirement already satisfied: nltk in /Users/juanvarvello/Library/Python/3.9/lib/python/site-packages (3.9.1)\n",
      "Requirement already satisfied: click in /Users/juanvarvello/Library/Python/3.9/lib/python/site-packages (from nltk) (8.1.7)\n",
      "Requirement already satisfied: joblib in /Users/juanvarvello/Library/Python/3.9/lib/python/site-packages (from nltk) (1.4.2)\n",
      "Requirement already satisfied: regex>=2021.8.3 in /Users/juanvarvello/Library/Python/3.9/lib/python/site-packages (from nltk) (2024.9.11)\n",
      "Requirement already satisfied: tqdm in /Users/juanvarvello/Library/Python/3.9/lib/python/site-packages (from nltk) (4.66.5)\n",
      "\n",
      "\u001b[1m[\u001b[0m\u001b[34;49mnotice\u001b[0m\u001b[1;39;49m]\u001b[0m\u001b[39;49m A new release of pip is available: \u001b[0m\u001b[31;49m24.2\u001b[0m\u001b[39;49m -> \u001b[0m\u001b[32;49m24.3.1\u001b[0m\n",
      "\u001b[1m[\u001b[0m\u001b[34;49mnotice\u001b[0m\u001b[1;39;49m]\u001b[0m\u001b[39;49m To update, run: \u001b[0m\u001b[32;49m/Library/Developer/CommandLineTools/usr/bin/python3 -m pip install --upgrade pip\u001b[0m\n",
      "Note: you may need to restart the kernel to use updated packages.\n"
     ]
    }
   ],
   "source": [
    "%pip install nltk"
   ]
  },
  {
   "cell_type": "markdown",
   "metadata": {},
   "source": [
    "\n",
    "```markdown\n",
    "# Version Juan\n",
    "```"
   ]
  },
  {
   "cell_type": "code",
   "execution_count": 23,
   "metadata": {},
   "outputs": [
    {
     "name": "stdout",
     "output_type": "stream",
     "text": [
      "{'qué': ['ve', 'sigues', 'me', 'no', 'bien', 'no', 'lo', 'no', 'hacemos', 'no', 'Ahora', 'del', 'haces', 'no', 'te', 'digo', 'poca', 'Los', 'me', 'equipo', 'te', 'pasó'], 've': ['a', 'a', 'desmarcado', 'acá', 'por'], 'Ve': ['a', 'a'], 'No': ['hay', 'soy', 'Son', 'te', 'tengo', 'nos', 'gente', 'vinimos', 'Somos', 'lo', 'se', 'puedes', 'lo', 'te', 'es', 'te', 'te', 'sirvo', 'puedo', 'necesitamos', 'En', 'me', 'sabes', 'me', 'me', 'te', 'Porque', 'le', 'valemos', 'podemos', 'tenemos', 'te', 'hay', 'es', 'lo', 'ves', 'grites', 'se', 'me', 'se', 'existe', 'la', 'sé', 'tiene', 'No', 'me', 'sé', 'gusto', 'podemos', 'sirve', 'me', 'aflojes', 'tendrías', 'tendrías', 'puedo', 'sabe', 'sé', 'somos', 'valemos', 'sabes', 'la', 'me', 'tiene', 'los', 'tiene', 'te', 'te', 'hay', 'se', 'cantemos', 'puede', 'quiero', 'lo', 'No', 'me', 'me', 'me', 'te'], 'hay': ['nada', 'un', 'que', 'manera', 'que', 'más', 'una', 'modo'], 'nada': ['que', 'para', 'que', 'el', 'sin'], 'Por': ['eso', 'mi', 'No', 'sácame', 'más', 'lo', 'te', 'primera'], 'eso': ['no', 'decía', 'el'], 'no': ['los', 'soy', 'me', 'existe', 'te', 'la', 'puedes', 'queremos', 'te', 'aprietes', 'tengo', 'tienes', 'tengo', 'soy', 'se', 'necesitamos', 'le', 'te', 'marcas', 'le', 'te', 'me', 'me', 'lo', 'me', 'te', 'Soy', 'me', 'se', 'lo', 'hay', 'me', 'te', 'estoy', 'esto', 'son', 'me', 'digo', 'se', 'puede', 'estar', 'hay', 'es', 'es', 'los', 'me', 'sé', 'dejas', 'tengo', 'siempre', 'camino', 'se', 'le', 'te', 'a', 'va', 'le', 'gane', 'hay', 'afeitarse', 'nos', 'hubiese', 'se', 'hablaba', 'está', 'conoce', 'tiene', 'va', 'puedo', 'puede', 'lo', 'se', 'eres'], 'Me': ['parece', 'encanta', 'Me', 'voy', 'voy', 'llamo', 'tuvo', 'parece', 'encanta', 'cortaron', 'No', 'hicieron', 'acuerdo', 'hice'], 'parece': ['que', 'menos', 'lo', 'que'], 'que': ['ya', 'te', 'usar', 'expresa', 'me', 'la', 'levanta', 'es', 'el', 'no', 'esta', 'se', 'atraerá', 'este', 'me', 'soy', 'este', 'no', 'el', 'soy', 'se', 'son', 'alguna', 'hay', 'y', 'Yo', 'siguen', 'hizo', 'me', 'se', 'el', 'estar', 'te', 'me', 'me', 'el', 'deja', 'me', 'tú', 'se', 'me', 'te', 'No', 'él', 'le', 'es', 'hago', 'me', 'quedar', 'vas', 'nos', 'nos', 'iba', 'estás', 'eres', 'lo', 'nos', 'lo', 'nos', 'tú', 'no', 'es', 'jugamos', 'me', 'lo', 'era', 'se', 'lo', 'lo', 'haberle', 'es', 'me', 'soy', 'está', 'estaba', 'tenemos', 'no', 'tú', 'se', 'quieres', 'haber', 'haberlo', 'yo', 'yo', 'juegas', 'hacerle', 'eres', 'Deportivo', 'fueron', 'es', 'se', 'da', 'retrocede', 'no', 'se', 'tiene', 'se', 'importa', 'hay', 'la', 'lo', 'da', 'van', 'la', 'el', 'vivir', 'se', 'tienes'], 'ya': ['es', 'tienes', 'los', 'no'], 'es': ['hora', 'de', 'mi', 'todo', 'tu', 'una', 'una', 'que', 'muy', 'la', 'la', 'la', 'la', 'el', 'así', 'más', 'mucho', 'un', 'armonía', 'lo', 'lo', 'lo', 'mi', 'un', 'donde', 'lo', 'y', 'el', 'la', 'un', 'mucho', 'muy', 'un', 'la', 'el', 'el'], 'de': ['contarle', 'un', 'la', 'los', 'los', 'Esa', 'los', 'Dos', 'la', 'los', 'falta', 'molinete', 'este', 'su', 'tronco', 'plomo', 'metegol', 'al', 'acuerdas', 'fin', 'la', 'que', 'la', 'una', 'su', 'parte', 'la', 'mi', 'mi', 'la', 'dar', 'las', 'Estoy', 'sacarte', 'que', 'los', 'un', 'Estamos', 'la', 'la', 'chatarra', 'mi', 'las', 'la', 'los', 'mi', 'ti', 'fútbol', 'demostrarme', 'punta', 'la', 'que', 'la', 'cruzar', 'un', 'la', 'púa', 'piernas', 'Amadeo', 'la', 'igual'], 'Si': ['está', 'eres', 'tenemos', 'el', 'no', 'tuviera', 'yo', 'siempre', 'me', 'eras', 'esto', 'seguimos', 'ya', 'sabes', 'gana', 'no', 'no', 'tú'], 'está': ['todo', 'totalmente', 'Mira', 'bien', 'en', 'patrocinado', 'prestando', 'dispuesto'], 'todo': ['el', 'el', 'esto', 'el'], 'el': ['día', 'juego', 'radio', 'bar', 'ritmo', 'balón', 'mellizo', 'Pulpo', 'Coreano', 'Cordobés', 'el', 'poeta', 'famoso', 'campeón', 'equipo', 'metegol', 'tema', 'medio', 'estadio', 'pueblo', 'wing', 'campeón', 'desafío', 'mecánico', 'amigo', 'equipo', 'equipo', 'Loco', 'sol', 'Beto', 'goleador', 'llanto', 'alma', 'mar', 'mejor', 'Beto', 'arte', 'Beto', 'Beto', 'cactus', 'viejo', 'viejo', 'viejo', 'rímel', 'Beto', 'Beto', 'lado', 'Beto', 'teatro', 'cuarto', 'medio', 'Es', 'único', 'avestruz', 'resto', 'estadio', 'más', 'equipo', 'mejor', 'tema', 'el', 'equipo', 'Universal', 'incomparable', 'Carmiño', 'partido', 'terreno', 'tiempo', 'la', 'No', 'medio', 'medio', 'balón', 'y', 'Laucha', 'combinado', 'balón', 'punto', 'marcador', 'combinado', 'Laucha', 'gol', 'árbitro', 'árbitro', 'Yo', 'combinado', 'del', 'ídolo'], 'enchufado': ['en'], 'en': ['ese', 'un', 'la', 'persona', 'mil', 'el', 'un', 'el', 'paz', 'la', 'este', 'serio', 'el', 'la', 'la', 'esta', 'los', 'el', 'mi', 'la', 'vamos', 'los', 'el', 'el', 'mi', 'el', 'la', 'el', 'el', 'tu', 'profundidad', 'un', 'juego', 'el', 'velocidad', 'el', 'el', 'cualquier'], 'Ni': ['me', 'al', 'Pero', 'lo', 'se'], 'me': ['Soy', 'va', 'hizo', 'están', 'parece', 'gusta', 'No', 'acerques', 'digan', 'lo', 'lo', 'importa', 'tuve', 'lo', 'llevan', 'duele', 'Tú', 'voy', 'lo', 'hagas', 'cansé', 'recién', 'hizo', 'voy', 'dijiste', 'dejaste', 'cargo', 'obligan', 'emociona', 'te', 'pegó', 'vas', 'puedo', 'enamoraría', 'hacen', 'quedé', 'tienen', 'pagas', 'pregunten', 'pregunten', 'voy'], 'Soy': ['un', 'todo', 'como', 'sentimiento'], 'fracaso': ['como', 'en'], 'a': ['hablar', 'contar', 'ver', 'mi', 'ser', 'Jorge', 'se', 'Estuve', 'gastar', 'tener', 'ser', 'anunciar', 'estas', 'vuestros', 'hacerles', 'hablar', 'la', 'ti', 'dejar', 'y', 'los', 'A', 'buscar', 'los', 'mi', 'encontrar', 'Paso', 'golpear', 'llevar', 'llevar', 'quién', 'ver', 'ganar', 'la', 'mí', 'buscar', 'los', 'dejar', 'tener', 'mi', 'ser', 'ir', 'ti', 'compañeros', 'mi', 'su', 'trabajar', 'correr', 'poder', 'este', 'los', 'mi', 'abandonar', 'ningún', 'este', 'verde', 'mis', 'poner', 'nuestro', 'ganar', 'No', 'un', 'decir', 'este', 'como', 'hundir', 'este', 'Dios', 'un', 'la', 'ese', 'un', 'comer', 'ningún', 'perderlo', 'meter', 'nadie', 'los', 'la', 'mí', 'bombardear', 'ser', 'llegar', 'la', 'perder', 'Y', 'perder', 'poder', 'poder', 'creer', 'hacer'], 'hablar': ['con', 'con'], 'Dejaste': ['el'], 'Tenemos': ['que', 'que'], 'Ponte': ['cómodo'], 'te': ['voy', 'cuesta', 'lo', 'lo', 'gusta', 'la', 'voy', 'voy', 'desanimes', 'desanimes', 'comió', 'la', 'voy', 'lo', 'van', 'agarre', 'me', 'parto', 'queda', 'lo', 'la', 'puede', 'monta', 'dio', 'lo', 'da', 'tuvimos', 'tuve', 'gusto', 'lo', 'quiero', 'desafío', 'olvides', 'olvides', 'creo', 'conté', 'Es'], 'voy': ['a', 'a', 'a', 'a', 'a', 'a', 'a', 'a', 'a', 'a', 'a', 'a', 'a'], 'contar': ['una'], 'Pero': ['tienes', 'por', 'por', 'qué', 'rata', 'mira', 'lo', 'no', 'cómo', 'ella', 'pasa', 'me', 'lo', 'Pero', 'si', 'tiene', 'no', 'ustedes', 'nos', 'lo', 'vamos', 'el', 'tú', 'el'], 'tienes': ['que', 'por', 'mucho', 'Tienes'], 'usar': ['tu'], 'Esto': ['ocurrió', 'es', 'es', 'va', 'recién'], 'ocurrió': ['hace'], 'hace': ['poco', 'muy'], 'un': ['pueblo', 'bar', 'niño', 'suizo', 'problema', 'futuro', 'ser', 'simple', 'museo', 'partido', 'pedazo', 'pedazo', 'equilibrio', 'gol', 'Quiero', 'equipo', 'buen', 'gran', 'gran', 'toro', 'y', 'metegol', 'dolor', 'homenaje', 'botín', 'maestro', 'hombre', 'tipo', 'partido', 'partidito', 'perdón', 'marcador', 'cura', 'y', 'derechazo', 'nuevo', 'error', 'tiro', 'alambre', 'final', 'pueblo', 'tatuaje'], 'pueblo': ['muy', 'siempre', 'tiene', 'en', 'con', 'nuevo'], 'donde': ['había', 'me'], 'había': ['una', 'un', 'conseguido'], 'una': ['plaza', 'gran', 'cabeza', 'goleada', 'madre', 'técnica', 'vista', 'muñeca', 'Era', 'cosa', 'fiera', 'patada', 'abrojo', 'masacre', 'sola', 'una', 'tirada', 'palomita'], 'plaza': ['como'], 'como': ['la', 'los', 'el', 'un', 'la', 'con', 'el', 'si', 'un', 'un', 'una', 'voy', 'una'], 'la': ['estatua', 'circunferencia', 'la', 'la', 'pasa', 'banda', 'cabeza', 'clava', 'pude', 'pasa', 'tienes', 'a', 'cabeza', 'pasas', 'apertura', 'figura', 'vas', 'paso', 'estela', 'que', 'lengua', 'van', 'Corona', 'cara', 'sombra', 'peluca', 'necesitamos', 'lleva', 'lleva', 'naturaleza', 'músculos', 'camiseta', 'sabiduría', 'fuerza', 'cosa', 'fauna', 'peor', 'única', 'psicológica', 'física', 'Copa', 'cancha', 'tecnología', 'pasa', 'derecha', 'entrada', 'la', 'baja', 'la', 'Centro', 'la', 'semana', 'pone', 'marca', 'el', 'defensa', 'estirada', 'Está', 'pasa', 'pelota', 'posición', 'adelanta', 'nada', 'devuelve', 'pasa', 'humanidad', 'tengo', 'historia'], 'estatua': ['de'], 'Y': ['también', 'qué', 'ahora', 'estoy', 'un', 'a', 'empezaremos', 'ahora', 'encima', 'tú', 'el', 'la', 'es', 'todos', 'el', 'si', 'si', 'cómo', 'sin', 'te', 'yo', 'estaba', 'somos', 'este', 'bueno', 'no', 'el', 'Amadeo', 'arranca', 'a', 'el', 'los'], 'también': ['había', 'quiero', 'me'], 'bar': ['como', 'trabajaba'], 'Número': ['trascendental', 'cinco'], 'expresa': ['el'], 'al': ['diámetro', 'a', 'nuevo', 'deporte', 'metegol', 'arco', 'pobre', 'universo', 'lado', 'resto', 'pueblo', 'partido', 'medio', 'cura', 'Emo', 'cruce', 'y'], 'diámetro': ['del'], 'Apellido': ['del'], 'del': ['famoso', 'trópico', 'que', 'fútbol', 'norte', 'Universal', 'que', 'fútbol', 'mejor', 'Ya', 'metegol', 'el', 'deporte', 'Todo', 'estadio', 'minuto', 'Deportivo', 'Padre', 'Deportivo', 'aire', 'Emo', 'Grosso'], 'autor': ['teatral'], 'En': ['el', 'el', 'el', 'el', 'el', 'el'], 'trabajaba': ['un'], 'niño': ['igual'], 'igual': ['que', 'a'], 'Yo': ['no', 'también', 'no', 'soy', 'lo', 'soy', 'soy', 'no', 'lo', 'no', 'la', 'no', 'Como', 'no', 'era', 'me', 'pensé', 'lo', 'tengo', 'también', 'no', 'soy', 'soy', 'te', 'te'], 'soy': ['un', 'un', 'va', 'de', 'un', 'el', 'el', 'el', 'frágil', 'el', 'la', 'el'], 'El': ['chico', 'ánimo', 'silencio', 'jugador', 'partido', 'pueblo', 'mi', 'último', 'Beto', 'Beto', 'goleador', 'pelo', 'Beto', 'Beto', 'otro', 'Beto', 'Beto', 'Beto', 'Beto', 'verde', 'decorador', 'futuro', 'avestruz', 'tipo', 'Beto', 'poderosísimo', 'equipo', 'árbitro', 'cura', 'cura', 'Grosso', 'Subcomisario', 'Grosso', 'Grosso', 'Beto', 'Beto', 'Grosso', 'equipo', 'El', 'Laucha', 'equipo', 'Laucha', 'público', 'público'], 'chico': ['tenía'], 'tenía': ['una'], 'Cada': ['vez'], 'se': ['parece', 'la', 'me', 'puede', 'puede', 'va', 'reía', 'De', 'reía', 'lo', 'vayan', 'volvió', 'llenó', 'hizo', 'te', 'metió', 'siente', 'queja', 'le', 'viene', 'Que', 'dan', 'le', 'queda', 'le', 'pararía', 'juegan', 'impacienta', 'muestra', 'desvía', 'lleva', 'dice', 'está', 'dice', 'dice', 'prepara', 'le', 'olviden', 'oye', 'casaron', 'puede'], 'menos': ['a', 'tengo'], 'encanta': ['el', 'el'], 'ti': ['te', 'te', 'te', 'te', 'te', 'no', 'de', 'por'], 'Cómo': ['no', 'nos', 'la', 'me'], 'va': ['a', 'a', 'a', 'a', 'a', 'de', 'a', 'a', 'a', 'a', 'a', 'a', 'a'], 'Laurita': ['tiene', 'tiene'], 'lo': ['que', 've', 'te', 'pido', 'vamos', 'más', 'dimos', 'que', 'hago', 'que', 'único', 'dices', 'pides', 'quiero', 'extraña', 'trata', 'que', 'mejor', 'Lo', 'que', 'decía', 'que', 'vas', 'dejas', 'dices', 'que', 'que', 'pagara', 'dejen', 'tuyo', 'tuyo', 'menos', 'que', 'que', 'más', 'los', 'van', 'pido', 'quiero', 'más', 'derroté', 'bien', 'que', 'que', 'hacen', 'Fue', 'que', 'alto', 'va', 'va', 'que'], 'puedo': ['mostrar', 'hacer', 'arreglar', 'volver', 'volver'], 'mostrar': ['mi'], 'vas': ['a', 'a', 'a', 'a', 'de', 'a', 'a', 'a', 'a', 'a', 'a', 'a'], 'ver': ['cómo', 'si'], 'Estaba': ['cansado', 'en', 'investigando'], 'cansado': ['de'], 'los': ['mismos', 'de', 'tres', 'mágicos', 'hasta', 'que', 'vamos', 'ojos', 'hice', 'rivales', 'va', 'ya', 'tengo', 'vomita', 'podré', 'jugadores', 'destruyas', 'habitantes', 'Granates'], 'ahora': ['son', 'son', 'con', 'estoy', 'Laura', 'viene', 'en', 'quiere'], 'La': ['domina', 'pide', 'culpa', 'megaestrella', 'estupidez', 'perfección', 'Aguada', 'la', 'defensa', 'pone', 'pelota', 'pasa'], 'cinco': ['es', 'años'], 'Pase': ['corto', 'sorpresivo', 'corto', 'en', 'profundo', 'para'], 'corto': ['para', 'para'], 'ritmo': ['del'], 'trópico': ['en'], 'Abre': ['el', 'por'], 'balón': ['para', 'en'], 'Frío': ['como'], 'Un': ['bloque', 'uno', 'emprendimiento', 'verdadero', 'claro', 'tema', 'animal', 'escaloncito', 'hijo'], 'para': ['el', 'el', 'el', 'el', 'jugar', 'basta', 'entretener', 'nada', 'Hormona', 'Van', 'profundiza', 'para', 'la', 'el', 'el', 'el', 'el', 'llevarlo', 'el'], 'ánimo': ['negro'], 'negro': ['como'], 'pide': ['el'], 'mimbre': ['bajo', 'del'], 'bajo': ['los', 'la', 'mi'], 'por': ['la', 'por', 'el', 'haberlo', 'un', 'esta', 'el', 'un', 'Por', 'favor', 'la', 'darme', 'eso', 'no', 'eso', 'lo', 'tu', 'enfrentar', 'participar', 'Imelda', 'derecha', 'vez', 'parte', 'dentro'], 'banda': ['para'], 'silencio': ['en'], 'persona': ['junto'], 'junto': ['al'], 'sorpresivo': ['para'], 'Para': ['los', 'esto'], 'mágicos': ['de'], 'Recibe': ['el', 'que', 'el', 'el'], 'poeta': ['del'], 'jugador': ['más'], 'más': ['carismático', 'grande', 'importante', 'que', 'feo', 'que', 'que', 'nuevo', 'veloz', 'A', 'fuerte', 'rápido', 'que', 'grande', 'atrás'], 'levanta': ['la'], 'y': ['lo', 'dinero', 'estará', 'para', 'ahora', 'no', 'me', 'capitán', 'encima', 'se', 'yo', 'se', 'dos', 'otra', 'no', 'seremos', 'a', 'rompí', 'empezamos', 'sus', 'lo', 'los', 'con', 'mejoro', 'yo', 'te', 'con', 'pusieron', 'no', 'yo', 'más', 'una', 'a', 'deja', 'fuerte', 'sigue', 'elude', 'defensores', 'van', 'y', 'Amadeo', 'discutirle', 'tuvieron'], 'desmarcado': ['al'], 'Al': ['al', 'no', 'mismo', 'lo', 'y'], 'mi': ['amigo', 'pequeño', 'pequeño', 'vida', 'humilde', 'hermano', 'vida', 'Y', 'lugar', 'qué'], 'amigo': ['el', 'que'], 'Mira': ['esto', 'lo', 'lo', 'para', 'quién'], 'esto': ['que', 'le', 'va', 'se', 'es', 'no', 'es', 'es', 'no'], 'quiero': ['jugar'], 'Quiere': ['jugar', 'estar'], 'A': ['ti', 'verlas', 'la', 'darlo', 'Laura', 'la', 'la', 'ti', 'ti', 'mí', 'nosotros', 'ti', 'mí', 'los', 'seguir', 'la', 'los', 'te', 'mí', 'a'], 'quieres': ['jugar', 'que', 'a', 'que', 'creer'], 'eres': ['el', 'tan', 'el', 'el', 'un', 'el', 'nada'], 'famoso': ['crack'], 'fútbol': ['de', 'en'], 'Es': ['le', 'Es', 'y', 'tu', 'Salió', 'un', 'un', 'lo', 'puro', 'una', 'inteligencia', 'un'], 'le': ['da', 'tenemos', 'ganamos', 'hace', 'haces', 'demuestres', 'hizo', 'ocurre', 'dices', 'dices', 'decíamos', 'va', 'escapa', 'estoy', 'gustaría', 'le', 'implora', 'ocurra', 'vas'], 'tan': ['juega', 'borracho'], 'juega': ['uno'], 'Hazlo': ['por'], 'Te': ['lo', 'Te', 'doy', 'estoy', 'repito', 'estás', 'salió', 'vas', 'A', 'lo', 'voy', 'desafío', 'daría'], 'pido': ['de', 'por'], 'tengo': ['todo', 'nada', 'algunos', 'que', 'una'], 'Se': ['está', 'quedó', 'reía', 'agrandó', 'golpeó', 'viene', 'lo', 'lo', 'los', 'murió', 'va', 'llevaron', 'llevaron', 'van', 'derrumba', 'acabó', 'dirige'], 'Parece': ['que', 'que', 'que'], 'campeón': ['tiene'], 'Acabo': ['de'], 'Esa': ['ni'], 'ni': ['la', 'al', 'a', 'la', 'al'], 'quedó': ['dura'], 'dura': ['la'], 'Ataca': ['otra', 'Ramiro'], 'otra': ['vez', 'cosa'], 'vez': ['el', 'me', 'y', 'el', 'para', 'el'], 'Va': ['a'], 'ser': ['una', 'parte', 'maravilloso', 'goleador', 'un', 'el'], 'Ramiro': ['por', 'para'], 'verlas': ['madres'], 'Sergio': ['se'], 'pasa': ['a', 'con', 'con', 'para', 'para', 'este'], 'Gonzalo': ['a'], 'Dame': ['otra', 'más', 'un', 'la'], 'metegol': ['no', 'del', 'conozco'], 'existe': ['el', 'la'], 'partido': ['no', 'de', 'de', 'por', 'inaugural'], 'Quiero': ['Siempre', 'la', 'un'], 'culpa': ['la'], 'esta': ['no', 'maravillosa', 'casa', 'no'], 'Río': ['del'], 'norte': ['de'], 'Uno': ['Por'], 'doy': ['la'], 'jugar': ['un', 'al', 'un'], 'Estamos': ['grandes', 'todos'], 'grandes': ['para'], 'Estuve': ['ahorrando'], 'durante': ['cinco'], 'años': ['porque', 'que'], 'porque': ['es', 'no', 'te', 'tú', 'con'], 'pero': ['voy', 'nunca', 'tú', 'está', 'no', 'qué', 'la', 'se'], 'tener': ['un', 'que'], 'Los': ['los', 'goles', 'quiere', 'Absolutos', 'colgados', 'voy', 'Malparitti', 'ídolos', 'cracks', 'managers'], 'hasta': ['un', 'que', 'que', 'el'], 'Voy': ['a', 'por'], 'parte': ['de', 'del', 'de'], 'muy': ['orgulloso', 'difícil', 'mal', 'Te'], 'orgulloso': ['de'], 'yo': ['no', 'juntos', 'me', 'por', 'no', 'te', 'venía', 'jamás', 'más'], 'Estoy': ['en', 'con', 'de', 'estoy'], 'con': ['la', 'el', 'el', 'el', 'un', 'el', 'el', 'el', 'el', 'el', 'él', 'todos', 'quién', 'la', 'la', 'actitud', 'la', 'una', 'estas', 'el', 'el', 'la', 'un', 'el', 'tanto', 'la', 'el', 'pelota', 'pelota', 'una', 'la'], 'medio': ['campo', 'del', 'para', 'campo'], 'campo': ['hay', 'y'], 'ahí': ['de'], 'falta': ['de', 'un'], 'estoy': ['desarrollando', 'acá', 'hablando', 'cara', 'de', 'muy', 'lanzando', 'haciendo', 'Gracias'], 'técnica': ['de'], 'Muchas': ['Muchas'], 'puedes': ['pensar', 'hacernos', 'decir'], 'pensar': ['en'], 'si': ['te', 'viene', 'se', 'no', 'fuera', 'mezclo', 'no', 'lo', 'yo', 'paramos'], 'pasas': ['jugando', 'la'], 'jugando': ['al', 'al'], 'Muy': ['buenas'], 'buenas': ['queridísimos'], 'habitantes': ['de', 'prefirieron'], 'este': ['maravilloso', 'pueblo', 'partido', 'equipo', 'niño', 'es', 'montón', 'equipo', 'pueblo'], 'Alegría': ['para'], 'basta': ['de'], 'Venimos': ['a'], 'anunciar': ['la'], 'Universal': ['Astro', 'Astro', 'Astro'], 'atraerá': ['turistas'], 'turistas': ['a'], 'estas': ['tierras'], 'dinero': ['a'], 'financiado': ['por'], 'ha': ['sido'], 'sido': ['padre', 'por'], 'padre': ['y'], 'verdadero': ['hijo'], 'hijo': ['de'], 'gente': ['de', 'por'], 'vinimos': ['a'], 'Era': ['un', 'una', 'el'], 'simple': ['niño'], 'cuando': ['lo', 'se', 'las', 'uno'], 'megaestrella': ['del'], 'Ezequiel': ['Remacho', 'Remacho'], 'Remacho': ['el', 'el'], 'Gracias': ['por', 'por', 'a', 'por'], 'Han': ['pasado'], 'pasado': ['muchos'], 'muchos': ['años'], 'desde': ['aquella'], 'nunca': ['pude', 'pasas', 'de'], 'pequeño': ['nuestras'], 'vidas': ['estarán'], 'estarán': ['ligadas'], 'ligadas': ['para'], 'sigues': ['diciendo'], 'Vamos': ['a', 'a', 'a'], 'Bienvenidos': ['al', 'al'], 'claro': ['homenaje'], 'deporte': ['más', 'y'], 'estadio': ['más', 'más'], 'grande': ['del', 'del'], 'museo': ['dedicado'], 'dedicado': ['a'], 'importante': ['de'], 'Acá': ['no', 'estoy'], 'queremos': ['ningún'], 'Nunca': ['te', 'vi', 'vi'], 'Las': ['obras', 'mujeres', 'cosas', 'cosas', 'palomas', 'estrellas'], 'obras': ['comenzarán'], 'comenzarán': ['hoy'], 'empezaremos': ['por'], 'detener': ['el'], 'tu': ['es', 'buen', 'se'], 'Mi': ['Tu'], 'Tráeme': ['ese'], 'o': ['no', 'te', 'cosa'], 'vamos': ['a', 'a', 'a', 'a', 'a'], 'siempre': ['tiene', 'fue', 'fue', 'te'], 'tiene': ['la', 'la', 'Son', 'el'], 'casi': ['siempre'], 'favor': ['te'], 'dejar': ['en'], 'aprietes': ['los'], 'Claro': ['que'], 'Cambia': ['la'], 'hermanos': ['o'], 'partidos': ['invictos'], 'invictos': ['juntos'], 'juntos': ['tú'], 'tú': ['y', 'eres', 'estás', 'estás', 'de', 'admiras', 'juegas', 'y', 'no', 'quieres'], 'estará': ['todo'], 'desanimes': ['que'], 'todavía': ['se', 'faltan'], 'puede': ['dar', 'escapar'], 'darlo': ['máximo'], 'máximo': ['y'], 'Desperdicié': ['mi'], 'vida': ['jugando', 'te'], 'acá': ['y', 'al', 'estoy', 'en', 'el'], 'Tú': ['tienes', 'y', 'eres', 'no', 've', 'ven', 'eres', 'sabes'], 'mucho': ['más', 'más', 'más'], 'Quédate': ['quieto'], 'quieto': ['que'], 'sirvo': ['para'], 'Laura': ['se', 'está'], 'hacer': ['nada', 'un', 'un'], 'encima': ['estoy'], 'hablando': ['con'], 'plomo': ['y'], 'pedazo': ['de'], 'wing': ['izquierdo'], 'izquierdo': ['y'], 'mejor': ['equipo', 'es', 'de', 'que', 'de', 'que'], 'equipo': ['de', 'sin', 'de', 'que', 'Absoluto', 'local', 'les', 'local'], 'Tienes': ['una', 'todo'], 'equilibrio': ['una'], 'olvidaste': ['el'], 'mecánico': ['de'], 'Nos': ['estaba', 'tenemos', 'falta', 'van', 'van', 'matamos', 'vemos'], 'estaba': ['destruyendo', 'vivo', 'tan'], 'destruyendo': ['y'], 'reía': ['de'], 'acuerdas': ['cómo', 'ese'], 'cómo': ['se', 'sufrimos', 'te', 'te', 'me', 'se', 'te', 'es'], 'Así': ['se', 'no', 'que'], 'Como': ['una', 'las', 'un'], 'dimos': ['vuelta'], 'vuelta': ['a', 'en'], 'necesitamos': ['a', 'a', 'a'], 'Busquemos': ['a'], 'son': ['de', 'lo', 'las', 'de'], 'mujeres': ['van'], 'van': ['y', 'a', 'a', 'a', 'a', 'a', 'a', 'a', 'a', 'a', 'a', 'a', 'a', 'a'], 'crees': ['que'], 'alguna': ['vez', 'chance'], 'Que': ['se', 'sin', 'ahora', 'nos', 'todavía', 'no'], 'vayan': ['si'], 'tenemos': ['el', 'miedo', 'que', 'toda', 'que'], 'miedo': ['a', 'que', 'a', 'de'], 'Hacemos': ['lo'], 'Con': ['el', 'el', 'las', 'mi', 'ella'], 'olvídate': ['del'], 'Ya': ['vas', 'que', 'lo', 'estoy', 'tienes', 'era'], 'buscar': ['a', 'a'], 'Adentro': ['del'], 'cada': ['acá'], 'queda': ['la', 'el'], 'verdad': ['le'], 'ganamos': ['al'], 'Goles': ['del'], 'Loco': ['y'], 'último': ['tuyo'], 'tuyo': ['fue'], 'fue': ['en', 'el', 'dejando', 'para'], 'Nada': ['a'], 'casa': ['de', 'para'], 'fin': ['de'], 'hago': ['todos', 'por'], 'todos': ['los', 'valemos', 'los'], 'Lo': ['mejor', 'metemos', 'hice', 'mejor', 'persigue', 'marca', 'vas', 'El'], 'decir': ['cómo', 'en'], 'Paso': ['a', 'a'], 'Qué': ['viaje', 'miedo', 'mano', 'patéticos', 'linda', 'me', 'asco', 'linda', 'me', 'linda', 'loco', 'es', 'me', 'me'], 'agrandó': ['la'], 'hizo': ['el', 'a', 'lo', 'mimbre'], 'Beto': ['eres', 'quiere', 'siempre', 'se', 'es', 'no', 'se', 'se', 'no', 'se', 'hizo', 'se', 'vino', 'no', 'se', 'no', 'se', 'siente', 'en', 'no', 'conoce'], 'Felices': ['los'], 'ojos': ['que'], 'sabes': ['cómo', 'que', 'lo', 'cómo'], 'sufrimos': ['esta'], 'quiere': ['hacer', 'otra'], 'Cuidado': ['con', 'con', 'con'], 'Síguele': ['la'], 'repito': ['que'], 'goleador': ['soy', 'siempre'], 'rata': ['te'], 'comió': ['el'], 'Todos': ['lo', 'saben'], 'difícil': ['ser'], 'marcas': ['ni'], 'golpeó': ['la'], 'mano': ['me', 'quieres'], 'serio': ['te', 'existen'], 'goles': ['los', 'nos'], 'hice': ['yo', 'Yo', 'un'], 'mal': ['al'], 'alineados': ['con'], 'haces': ['un', 'ahí', 'Ve'], 'gol': ['ni', 'de'], 'Una': ['Se', 'vez', 'vez', 'verdadera'], 'llevar': ['al'], 'después': ['de', 'de'], 'Sal': ['de'], 'acerques': ['porque'], 'parto': ['en'], 'Ustedes': ['son', 'están'], 'único': ['que', 'fracaso'], 'estela': ['que'], 'deja': ['el', 'servido'], 'mar': ['de'], 'Quién': ['es'], 'mí': ['no', 'también', 'qué', 'me'], 'digan': ['que'], 'Porque': ['una', 'sabe', 'muestra'], 'cosa': ['es', 'es'], 'sensibilidad': ['y'], 'estupidez': ['es'], 'Mejor': ['cierra', 'muerto'], 'cierra': ['la'], 'patéticos': ['que'], 'bien': ['te', 'que'], 'linda': ['hiciste', 'Cómo'], 'hiciste': ['la'], 'Ahora': ['sí', 'vamos', 'Lechuga'], 'sí': ['que'], 'llenó': ['de'], 'dices': ['en', 'en'], 'Hace': ['años'], 'comieron': ['la'], 'lengua': ['los'], 'mira': ['a'], 'quién': ['le', 'van', 'le', 'se', 'le', 'le'], 'Pobre': ['Se'], 'Nadie': ['vale', 'está'], 'Habla': ['así'], 'quedarnos': ['en'], 'viene': ['el', 'lo'], 'Saben': ['que'], 'él': ['era', 'y'], 'era': ['nuestro', 'nuestro', 'imposible', 'el', 'la'], 'Él': ['era', 'es', 'no', 'solo'], 'pensando': ['en'], 'uno': ['con'], 'Llegará': ['nuestra'], 'nos': ['juntaremos', 'une', 'necesita', 'ibas', 'devuelven', 'llenan', 'van', 'van', 'jugamos'], 'juntaremos': ['con'], 'Después': ['con'], 'metemos': ['al'], 'universo': ['en'], 'ganar': ['de', 'Si'], 'Baja': ['de', 'de', 'el'], 'extraña': ['al'], 'importa': ['cómo', 'es'], 'toda': ['la'], 'asco': ['que'], 'cosas': ['que', 'se', 'pendientes', 'que'], 'murió': ['el'], 'nació': ['el'], 'Hasta': ['yo'], 'tuve': ['miedo', 'de'], 'Dos': ['veces', 'cortas'], 'veces': ['no'], 'dio': ['lo'], 'pelo': ['fue'], 'tenías': ['pensada'], 'pensada': ['otra'], 'llevan': ['a'], 'Bienvenida': ['a'], 'Admiro': ['tu'], 'Ven': ['para', 'para'], 'lado': ['a'], 'Dile': ['que'], 'las': ['joyas', 'manos', 'mujeres', 'palomas', 'ventajas', 'reglas'], 'joyas': ['de'], 'Corona': ['no'], 'arranco': ['el'], 'Hay': ['tantas', 'que', 'que', 'que'], 'tantas': ['cosas'], 'vi': ['el', 'a'], 'Dejó': ['un'], 'cortaron': ['los'], 'duele': ['el'], 'manera': ['de'], 'Será': ['mejor'], 'Divide': ['y'], 'así': ['el', 'no'], 'Tulio': ['lo', 'no'], 'rivales': ['hay'], 'Eso': ['Tulio'], 'Basta': ['con'], 'Pensé': ['que'], 'iba': ['a'], 'estás': ['a'], 'ir': ['sin'], 'agárrate': ['de', 'tú', 'de'], 'Incapaz': ['de'], 'queja': ['el'], 'cactus': ['por'], 'sin': ['ti', 'brazos'], 'darme': ['una'], 'ves': ['que'], 'grites': ['Ya'], 'decía': ['de', 'lo'], 'sácame': ['esta'], 'cara': ['de'], 'tampoco': ['es'], 'bienaventurado': ['tú'], 'Pueden': ['confiar'], 'confiar': ['en'], 'De': ['cerca', 'ahora', 'nuevo'], 'cerca': ['es'], 'tuviera': ['las'], 'Salió': ['feo'], 'hermano': ['no'], 'ponerte': ['a'], 'Contra': ['un'], 'brazos': ['ni'], 'muerto': ['que'], 'da': ['vergüenza'], 'vergüenza': ['gritarles'], 'compañeros': ['en'], 'Estos': ['no', 'representan'], 'tuvimos': ['de'], 'cansé': ['de'], 'sacarte': ['la'], 'Toda': ['mi', 'la'], 'recién': ['me'], 'Vete': ['de'], 'Además': ['nunca'], 'Miren': ['dónde', 'a'], 'dan': ['cuenta'], 'cuenta': ['de'], 'algo': ['que'], 'admiras': ['de'], 'digo': ['que'], 'gran': ['caudillo'], 'Este': ['era', 'es'], 'imposible': ['de', 'de'], 'Le': ['teníamos', 'Scorbut'], 'teníamos': ['mucho'], 'decíamos': ['a'], 'Déjate': ['de'], 'eras': ['un'], 'toro': ['imposible'], 'ese': ['partido', 'juego', 'pase'], 'jugamos': ['tres', 'el'], 'acuerdo': ['como'], 'Todavía': ['estaba'], 'vivo': ['el'], 'fiera': ['el'], 'viejo': ['en'], 'borracho': ['que'], 'rompí': ['un'], 'quería': ['que', 'ser'], 'loco': ['que'], 'Armamos': ['un'], 'fusión': ['clásico'], 'clásico': ['y'], 'correr': ['el'], 'rímel': ['de'], 'manos': ['están'], 'Lechuga': ['mucho'], 'vino': ['a'], 'Vean': ['el'], 'estar': ['bajo'], 'sombra': ['de'], 'Bájame': ['que'], 'peluca': ['a'], 'teatro': ['no'], 'Todo': ['es'], 'armonía': ['y'], 'llevaron': ['a', 'a'], 'sabe': ['que', 'lo', 'que'], 'Tira': ['la'], 'empezamos': ['un'], 'Está': ['muy', 'bajo', 'todo'], 'Olvídate': ['de'], 'ella': ['nos', 'no'], 'necesita': ['a'], 'Tendrías': ['que'], 'haberle': ['visto'], 'visto': ['la'], 'lugar': ['en'], 'Siento': ['una'], 'siente': ['como'], 'entretener': ['a'], 'sé': ['cómo', 'qué', 'lo', 'si'], 'Son': ['todos', 'muñecos'], 'Deja': ['tranquilo'], 'tranquilo': ['el'], 'tema': ['de'], 'dijiste': ['el'], 'Iba': ['a'], 'homenaje': ['a'], 'cargo': ['los'], 'creer': ['que', 'un', 'o'], 'poner': ['diez'], 'diez': ['jugadores'], 'lanzando': ['una'], 'decorador': ['decía'], 'Cuánta': ['gente'], 'Esta': ['me', 'es'], 'muestra': ['que', 'por'], 'frágil': ['como'], 'bueno': ['como'], 'Piel': ['de'], 'dejas': ['a'], 'nuestro': ['pueblo'], 'gusto': ['o'], 'podemos': ['contra'], 'Vas': ['a'], 'están': ['los', 'aquí', 'gritando'], 'lleva': ['de', 'de', 'prendido'], 'podríamos': ['haber'], 'camino': ['m'], 'm': ['sin'], 'futuro': ['del'], 'naturaleza': ['y'], 'músculos': ['y'], 'perfección': ['para'], 'perfeccionar': ['lo'], 'palomas': ['blancas'], 'blancas': ['ya'], 'animal': ['con'], 'vomita': ['el'], 'Estas': ['son'], 'Aguerridas': ['y'], 'avestruz': ['australiano'], 'australiano': ['es'], 'veloz': ['con'], 'imaginas': ['un'], 'pasaría': ['si'], 'montón': ['de'], 'Quizá': ['salen'], 'salen': ['unos'], 'unos': ['tapones'], 'mejoro': ['mi'], 'O': ['por'], 'pisar': ['el'], 'resto': ['de', 'de'], 'Otra': ['de', 'vez', 'vez'], 'ventajas': ['que'], 'sobre': ['este', 'la'], 'Obvio': ['que'], 'Estás': ['frente'], 'frente': ['a'], 'tipo': ['percibe'], 'percibe': ['cosas'], 'Algo': ['que'], 'puro': ['Me'], 'Siempre': ['la', 'fuiste'], 'fuerza': ['la'], 'sirve': ['para'], 'Sígueme': ['mostrando'], 'pegó': ['esta'], 'les': ['tengo', 'vas'], 'ibas': ['a'], 'Déjala': ['en'], 'cuidado': ['con'], 'fauna': ['contra'], 'contra': ['el'], 'pre': ['temporada'], 'temporada': ['de'], 'tengas': ['miedo'], 'pude': ['rescatar'], 'rescatar': ['lo'], 'única': ['persona'], 'perjudicada': ['yo'], 'tendrías': ['que', 'que'], 'haber': ['hecho'], 'desafiado': ['Estás'], 'Vine': ['a'], 'pensé': ['si'], 'enamoraría': ['de'], 'enfrentar': ['a'], 'muchísimo': ['más'], 'fuerte': ['que', 'saca'], 'derroté': ['una'], 'saben': ['que'], 'jamás': ['he'], 'he': ['perdido'], 'públicamente': ['a'], 'Acepto': ['el'], 'juego': ['de', 'el'], 'desafío': ['a'], 'fuiste': ['un'], 'gana': ['nos'], 'devuelven': ['el'], 'capaz': ['de'], 'hacerle': ['la'], 'física': ['nos'], 'Tengo': ['un', 'una'], 'dicen': ['que'], 'rápido': ['del'], 'prestas': ['la'], 'custodiarlo': ['en'], 'perdón': ['de'], 'necesito': ['un'], 'marcador': ['de'], 'cura': ['me', 'párroco', 'se', 'y'], 'volver': ['al', 'al'], 'Deportivo': ['Desamparados'], 'gane': ['la'], 'Promesas': ['son'], 'Absolutos': ['compraron'], 'Demolieron': ['la'], 'pusieron': ['un'], 'hombres': ['en'], 'participar': ['en'], 'afeitarse': ['hasta'], 'paramos': ['o'], 'colgados': ['del'], 'llenan': ['la'], 'Nosotros': ['somos', 'somos', 'nos'], 'somos': ['jugadores', 'de'], 'jugadores': ['de'], 'Ellos': ['son', 'no'], 'investigando': ['acá'], 'hubiese': ['sido'], 'meter': ['mil'], 'viste': ['el'], 'fueron': ['estos'], 'ustedes': ['son'], 'confía': ['en'], 'Enciendan': ['la'], 'tanto': ['dominio'], 'dominio': ['de'], 'hablaba': ['de'], 'poderosísimo': ['Deportivo'], 'tecnología': ['de'], 'escaloncito': ['parece'], 'Presenta': ['a'], 'impacienta': ['el'], 'Absoluto': ['está'], 'Lord': ['Che'], 'Aguada': ['Coffee'], 'Coffee': ['Werner'], 'Bank': ['of'], 'of': ['Grupo'], 'WHIRL': ['Indy'], 'Indy': ['Frunde'], 'Scorbut': ['Gourmet'], 'árbitro': ['Cristóforo', 'no'], 'Armando': ['Demóstenes'], 'párroco': ['José'], 'Carmiño': ['Bienaventurado', 'y'], 'Luis': ['Kracorian'], 'Eusebio': ['Daniel', 'la', 'la'], 'Subcomisario': ['Bautista', 'derriba'], 'Claudio': ['Alcides'], 'Alcides': ['Pedro'], 'Pedro': ['Juvenal'], 'LENCERÍA': ['ELSA'], 'EL': ['SABOR'], 'SABOR': ['DE'], 'DE': ['LA'], 'LA': ['VIDA'], 'arranca': ['el'], 'Cuevas': ['la'], 'retrocede': ['para'], 'Ferrero': ['a', 'para'], 'derecha': ['para'], 'implora': ['por'], 'atrás': ['para', 'al'], 'cortas': ['y'], 'profundidad': ['para'], 'Corta': ['McAntony'], 'McAntony': ['sin'], 'profundo': ['para'], 'Corre': ['Assaidi', 'el'], 'Assaidi': ['de', 'se'], 'Van': ['der'], 'nuevo': ['al', 'intento', 'antes'], 'entrada': ['de'], 'Dejan': ['atrás'], 'Centro': ['que', 'de', 'para'], 'desvía': ['del'], 'Grosso': ['pone', 'la', 'intercepta', 'prepara'], 'pone': ['el', 'larga', 'para'], 'antes': ['del'], 'minuto': ['de'], 'faltan': ['minutos'], 'minutos': ['y'], 'Arranca': ['Amadeo'], 'Amadeo': ['para', 'González', 'al', 'intentando'], 'Cueva': ['para'], 'servido': ['el'], 'Alto': ['y'], 'abrojo': ['al'], 'Festín': ['del'], 'baja': ['con'], 'Bolea': ['de'], 'semana': ['preparando'], 'buscándolo': ['a'], 'pase': ['lastimoso'], 'lastimoso': ['y'], 'Elimina': ['la'], 'marca': ['de'], 'Levanta': ['maravilloso'], 'maravilloso': ['ante'], 'ante': ['los'], 'error': ['del'], 'masacre': ['este'], 'destruyas': ['tan'], 'bombardear': ['a'], 'tiempo': ['para'], 'Bailen': ['un'], 'olvides': ['después', 'del'], 'Fue': ['la'], 'conoce': ['esta', 'el'], 'quedé': ['sin'], 'dispuesto': ['a'], 'reglas': ['no'], 'Cuando': ['lo'], 'defensa': ['de', 'no'], 'dice': ['cuando'], 'verdadera': ['pesadilla'], 'Bubaye': ['con'], 'Supera': ['la'], 'estirada': ['del'], 'derrumba': ['inexplicablemente'], 'Mantengan': ['la'], 'acabó': ['el'], 'Empezó': ['la'], 'Nuevo': ['avance'], 'avance': ['del'], 'Túnel': ['del'], 'Avanzan': ['con'], 'prepara': ['el', 'para'], 'llegar': ['al'], 'modo': ['de'], 'aire': ['de'], 'local': ['sale', 'iguala', 'para'], 'sale': ['por', 'al'], 'intento': ['de'], 'hubiera': ['dicho'], 'dicho': ['lo'], 'alto': ['que'], 'sigue': ['la'], 'Vuelve': ['al'], 'ocurra': ['cobrar'], 'aquí': ['gracias'], 'gracias': ['a'], 'olviden': ['nunca'], 'Roba': ['la'], 'Mendiguri': ['sale', 'comete'], 'cruce': ['y'], 'comete': ['un'], 'propio': ['de'], 'Navarro': ['Centro'], 'primera': ['el'], 'combinado': ['local', 'local', 'local'], 'amarilla': ['le'], 'pelota': ['sobrevuela'], 'sobrevuela': ['la'], 'dirige': ['a'], 'posición': ['del'], 'Pelota': ['fácil'], 'fácil': ['para'], 'González': ['de'], 'incomprensible': ['del'], 'Pone': ['en'], 'inteligencia': ['con'], 'Toma': ['el'], 'elude': ['a'], 'Pisa': ['Recibe'], 'Aparece': ['de'], 'escapar': ['ese'], 'Laucha': ['para', 'por', 'por'], 'Planchazo': ['abajo'], 'abajo': ['por'], 'Malparitti': ['tienen'], 'alambre': ['de'], 'púa': ['que'], 'perder': ['el'], 'Les': ['vamos'], 'Pared': ['perfecta'], 'perfecta': ['con'], 'devuelve': ['al'], 'Entra': ['el', 'al'], 'piernas': ['en'], 'iguala': ['el'], 'palomita': ['increíble'], 'Encara': ['el'], 'abandonan': ['su'], 'su': ['campo'], 'dentro': ['gana'], 'velocidad': ['al'], 'Patada': ['criminal'], 'criminal': ['del'], 'humanidad': ['de'], 'intentando': ['torcer'], 'torcer': ['el'], 'público': ['no'], 'escucha': ['lo'], 'tienen': ['que'], 'ven': ['que'], 'estrellas': ['se'], 'managers': ['son'], 'daría': ['la'], 'sorprendente': ['es'], 'pregunten': ['por'], 'consiguió': ['meterse'], 'meterse': ['en', 'y'], 'discutirle': ['de'], 'prefirieron': ['fundar'], 'vivir': ['en'], 'pasó': ['con'], 'solo': ['quería'], 'ídolo': ['de'], 'casaron': ['y'], 'tuvieron': ['un'], 'Jugadores': ['de'], 'conté': ['la'], 'existen': ['esos'], 'Creer': ['para'], 'tatuaje': ['que'], 'Déjame': ['Tiro'], 'Pareces': ['una'], 'Tiene': ['un'], 'Ganan': ['los'], 'Granates': ['pero'], 'dar': ['vuelta'], 'Puede': ['pasar'], 'pasar': ['cualquier']}\n"
     ]
    }
   ],
   "source": [
    "from collections import defaultdict\n",
    "\n",
    "# Diccionario para almacenar los n-gramas\n",
    "n_grams = defaultdict(list)\n",
    "\n",
    "# Leer el archivo línea por línea\n",
    "with open(\"metegol_limpio.txt\", \"r\", encoding=\"utf-8\") as file:\n",
    "    for line in file:\n",
    "        # Dividir la línea en palabras usando split()\n",
    "        words = line.strip().split()\n",
    "        \n",
    "        # Filtrar palabras para mantener solo aquellas que son alfabéticas\n",
    "        words = [word for word in words if word.isalpha()]\n",
    "        \n",
    "        # Construir los n-gramas\n",
    "        for i in range(len(words) - 1):\n",
    "            n_grams[words[i]].append(words[i + 1])\n",
    "\n",
    "# Mostrar el resultado de n_grams\n",
    "print(dict(n_grams))  # Convertir a dict para imprimir de manera más clara\n",
    "\n"
   ]
  },
  {
   "cell_type": "code",
   "execution_count": 24,
   "metadata": {},
   "outputs": [],
   "source": [
    "import random\n",
    "def generate_sentence(length=10):\n",
    "    words = []\n",
    "    next_word = random.choice(list(n_grams.keys()))\n",
    "    words.append(next_word)\n",
    "    while len(words) < length:\n",
    "        next_word = random.choice(n_grams[next_word])\n",
    "        words.append(next_word)\n",
    "\n",
    "    return \" \".join(words)\n",
    "    "
   ]
  },
  {
   "cell_type": "code",
   "execution_count": 31,
   "metadata": {},
   "outputs": [
    {
     "name": "stdout",
     "output_type": "stream",
     "text": [
      "decir cómo te quiero jugar un partido no es el\n",
      "años que se va a este equipo Absoluto está patrocinado\n",
      "las reglas no puede escapar ese pase lastimoso y dinero\n",
      "Todavía estaba vivo el ídolo de un pedazo de Amadeo\n"
     ]
    },
    {
     "ename": "IndexError",
     "evalue": "list index out of range",
     "output_type": "error",
     "traceback": [
      "\u001b[0;31m---------------------------------------------------------------------------\u001b[0m",
      "\u001b[0;31mIndexError\u001b[0m                                Traceback (most recent call last)",
      "Cell \u001b[0;32mIn[31], line 2\u001b[0m\n\u001b[1;32m      1\u001b[0m \u001b[38;5;28;01mfor\u001b[39;00m x \u001b[38;5;129;01min\u001b[39;00m \u001b[38;5;28mrange\u001b[39m(\u001b[38;5;241m10\u001b[39m):\n\u001b[0;32m----> 2\u001b[0m     \u001b[38;5;28mprint\u001b[39m(\u001b[43mgenerate_sentence\u001b[49m\u001b[43m(\u001b[49m\u001b[43m)\u001b[49m)\n",
      "Cell \u001b[0;32mIn[24], line 7\u001b[0m, in \u001b[0;36mgenerate_sentence\u001b[0;34m(length)\u001b[0m\n\u001b[1;32m      5\u001b[0m words\u001b[38;5;241m.\u001b[39mappend(next_word)\n\u001b[1;32m      6\u001b[0m \u001b[38;5;28;01mwhile\u001b[39;00m \u001b[38;5;28mlen\u001b[39m(words) \u001b[38;5;241m<\u001b[39m length:\n\u001b[0;32m----> 7\u001b[0m     next_word \u001b[38;5;241m=\u001b[39m \u001b[43mrandom\u001b[49m\u001b[38;5;241;43m.\u001b[39;49m\u001b[43mchoice\u001b[49m\u001b[43m(\u001b[49m\u001b[43mn_grams\u001b[49m\u001b[43m[\u001b[49m\u001b[43mnext_word\u001b[49m\u001b[43m]\u001b[49m\u001b[43m)\u001b[49m\n\u001b[1;32m      8\u001b[0m     words\u001b[38;5;241m.\u001b[39mappend(next_word)\n\u001b[1;32m     10\u001b[0m \u001b[38;5;28;01mreturn\u001b[39;00m \u001b[38;5;124m\"\u001b[39m\u001b[38;5;124m \u001b[39m\u001b[38;5;124m\"\u001b[39m\u001b[38;5;241m.\u001b[39mjoin(words)\n",
      "File \u001b[0;32m/Library/Developer/CommandLineTools/Library/Frameworks/Python3.framework/Versions/3.9/lib/python3.9/random.py:346\u001b[0m, in \u001b[0;36mRandom.choice\u001b[0;34m(self, seq)\u001b[0m\n\u001b[1;32m    344\u001b[0m \u001b[38;5;250m\u001b[39m\u001b[38;5;124;03m\"\"\"Choose a random element from a non-empty sequence.\"\"\"\u001b[39;00m\n\u001b[1;32m    345\u001b[0m \u001b[38;5;66;03m# raises IndexError if seq is empty\u001b[39;00m\n\u001b[0;32m--> 346\u001b[0m \u001b[38;5;28;01mreturn\u001b[39;00m \u001b[43mseq\u001b[49m\u001b[43m[\u001b[49m\u001b[38;5;28;43mself\u001b[39;49m\u001b[38;5;241;43m.\u001b[39;49m\u001b[43m_randbelow\u001b[49m\u001b[43m(\u001b[49m\u001b[38;5;28;43mlen\u001b[39;49m\u001b[43m(\u001b[49m\u001b[43mseq\u001b[49m\u001b[43m)\u001b[49m\u001b[43m)\u001b[49m\u001b[43m]\u001b[49m\n",
      "\u001b[0;31mIndexError\u001b[0m: list index out of range"
     ]
    }
   ],
   "source": [
    "\n"
   ]
  }
 ],
 "metadata": {
  "kernelspec": {
   "display_name": "Python 3",
   "language": "python",
   "name": "python3"
  },
  "language_info": {
   "codemirror_mode": {
    "name": "ipython",
    "version": 3
   },
   "file_extension": ".py",
   "mimetype": "text/x-python",
   "name": "python",
   "nbconvert_exporter": "python",
   "pygments_lexer": "ipython3",
   "version": "3.9.6"
  }
 },
 "nbformat": 4,
 "nbformat_minor": 2
}
